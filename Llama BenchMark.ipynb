{
 "cells": [
  {
   "cell_type": "code",
   "execution_count": 3,
   "id": "1f8cacfa-abe9-4ba7-aacf-4a11b0fd3b10",
   "metadata": {},
   "outputs": [],
   "source": [
    "# Load model directly\n",
    "from transformers import AutoTokenizer, AutoModelForCausalLM"
   ]
  },
  {
   "cell_type": "code",
   "execution_count": 4,
   "id": "e19bd5dc-7774-4cb0-b99c-b3c8d462dfc9",
   "metadata": {},
   "outputs": [
    {
     "data": {
      "application/vnd.jupyter.widget-view+json": {
       "model_id": "8dbbf5413e7c4329a8f79a4908abd859",
       "version_major": 2,
       "version_minor": 0
      },
      "text/plain": [
       "tokenizer_config.json:   0%|          | 0.00/50.5k [00:00<?, ?B/s]"
      ]
     },
     "metadata": {},
     "output_type": "display_data"
    },
    {
     "data": {
      "application/vnd.jupyter.widget-view+json": {
       "model_id": "cdbc7901f8364b3f8ab2684abb60dec9",
       "version_major": 2,
       "version_minor": 0
      },
      "text/plain": [
       "tokenizer.json:   0%|          | 0.00/9.09M [00:00<?, ?B/s]"
      ]
     },
     "metadata": {},
     "output_type": "display_data"
    },
    {
     "data": {
      "application/vnd.jupyter.widget-view+json": {
       "model_id": "dd481032c9b24a1a94d5078026f373df",
       "version_major": 2,
       "version_minor": 0
      },
      "text/plain": [
       "special_tokens_map.json:   0%|          | 0.00/73.0 [00:00<?, ?B/s]"
      ]
     },
     "metadata": {},
     "output_type": "display_data"
    },
    {
     "data": {
      "application/vnd.jupyter.widget-view+json": {
       "model_id": "a82c7d952cfe417c944f74bc1b7a72e2",
       "version_major": 2,
       "version_minor": 0
      },
      "text/plain": [
       "config.json:   0%|          | 0.00/826 [00:00<?, ?B/s]"
      ]
     },
     "metadata": {},
     "output_type": "display_data"
    },
    {
     "data": {
      "application/vnd.jupyter.widget-view+json": {
       "model_id": "4b3ee59d4cba43868bb4ca0a7addab97",
       "version_major": 2,
       "version_minor": 0
      },
      "text/plain": [
       "model.safetensors.index.json:   0%|          | 0.00/23.9k [00:00<?, ?B/s]"
      ]
     },
     "metadata": {},
     "output_type": "display_data"
    },
    {
     "data": {
      "application/vnd.jupyter.widget-view+json": {
       "model_id": "e10ff314ee39406694269de14d52dc84",
       "version_major": 2,
       "version_minor": 0
      },
      "text/plain": [
       "Downloading shards:   0%|          | 0/4 [00:00<?, ?it/s]"
      ]
     },
     "metadata": {},
     "output_type": "display_data"
    },
    {
     "data": {
      "application/vnd.jupyter.widget-view+json": {
       "model_id": "a63c1419df6f4a3ea1e874b533946334",
       "version_major": 2,
       "version_minor": 0
      },
      "text/plain": [
       "model-00001-of-00004.safetensors:   0%|          | 0.00/4.98G [00:00<?, ?B/s]"
      ]
     },
     "metadata": {},
     "output_type": "display_data"
    },
    {
     "data": {
      "application/vnd.jupyter.widget-view+json": {
       "model_id": "9055669a1fcc41a4b402dac48fc7d652",
       "version_major": 2,
       "version_minor": 0
      },
      "text/plain": [
       "model-00002-of-00004.safetensors:   0%|          | 0.00/5.00G [00:00<?, ?B/s]"
      ]
     },
     "metadata": {},
     "output_type": "display_data"
    },
    {
     "data": {
      "application/vnd.jupyter.widget-view+json": {
       "model_id": "b6f141522b5a4f4780caa949a8994ee5",
       "version_major": 2,
       "version_minor": 0
      },
      "text/plain": [
       "model-00003-of-00004.safetensors:   0%|          | 0.00/4.92G [00:00<?, ?B/s]"
      ]
     },
     "metadata": {},
     "output_type": "display_data"
    },
    {
     "data": {
      "application/vnd.jupyter.widget-view+json": {
       "model_id": "4adc4163b5bb45ffa24cb25b835eaf42",
       "version_major": 2,
       "version_minor": 0
      },
      "text/plain": [
       "model-00004-of-00004.safetensors:   0%|          | 0.00/1.17G [00:00<?, ?B/s]"
      ]
     },
     "metadata": {},
     "output_type": "display_data"
    },
    {
     "data": {
      "application/vnd.jupyter.widget-view+json": {
       "model_id": "310b715d0d60454e951580bca33478cc",
       "version_major": 2,
       "version_minor": 0
      },
      "text/plain": [
       "Loading checkpoint shards:   0%|          | 0/4 [00:00<?, ?it/s]"
      ]
     },
     "metadata": {},
     "output_type": "display_data"
    },
    {
     "data": {
      "application/vnd.jupyter.widget-view+json": {
       "model_id": "7a0bcbc7d3244b0e86c120383e310966",
       "version_major": 2,
       "version_minor": 0
      },
      "text/plain": [
       "generation_config.json:   0%|          | 0.00/185 [00:00<?, ?B/s]"
      ]
     },
     "metadata": {},
     "output_type": "display_data"
    }
   ],
   "source": [
    "tokenizer = AutoTokenizer.from_pretrained(\"meta-llama/Llama-3.1-8B\")\n",
    "model = AutoModelForCausalLM.from_pretrained(\"meta-llama/Llama-3.1-8B\")"
   ]
  },
  {
   "cell_type": "code",
   "execution_count": 66,
   "id": "36516b5f-e4af-452e-9852-52870ebeaf67",
   "metadata": {},
   "outputs": [],
   "source": [
    "from deepeval.models.base_model import DeepEvalBaseLLM\n",
    "from deepeval.benchmarks import HellaSwag\n",
    "from deepeval.benchmarks.tasks import HellaSwagTask\n",
    "import re"
   ]
  },
  {
   "cell_type": "code",
   "execution_count": 200,
   "id": "e6acc5c0-9505-4a91-8123-f436464887fc",
   "metadata": {
    "scrolled": true
   },
   "outputs": [
    {
     "name": "stderr",
     "output_type": "stream",
     "text": [
      "Setting `pad_token_id` to `eos_token_id`:None for open-end generation.\n"
     ]
    },
    {
     "name": "stdout",
     "output_type": "stream",
     "text": [
      "C\n"
     ]
    }
   ],
   "source": [
    "class Llama3(DeepEvalBaseLLM):\n",
    "    def __init__(\n",
    "        self,\n",
    "        model,\n",
    "        tokenizer\n",
    "    ):\n",
    "        self.model = model\n",
    "        self.tokenizer = tokenizer\n",
    "\n",
    "    def load_model(self):\n",
    "        return self.model\n",
    "\n",
    "    def generate(self, prompt: str) -> str:\n",
    "        sections = [section.strip() for section in prompt.split(\"\\n\\n\") if section.strip()]\n",
    "\n",
    "        # Take the last section, including \"Answer:\" for context\n",
    "        prompt = sections[-2]\n",
    "\n",
    "        model = self.load_model()\n",
    "\n",
    "        device = \"cuda\" # the device to load the model onto\n",
    "\n",
    "        model_inputs = self.tokenizer([prompt], return_tensors=\"pt\").to(device)\n",
    "        model.to(device)\n",
    "\n",
    "        generated_ids = model.generate(\n",
    "            **model_inputs, \n",
    "            max_new_tokens=100, \n",
    "            use_cache=True)\n",
    "        \n",
    "        ans = self.tokenizer.batch_decode(generated_ids)[0]\n",
    "\n",
    "        match = re.search(r\"Answer:\\s*([A-D])\", ans)\n",
    "\n",
    "        if match:\n",
    "            answer = match.group(1)\n",
    "        else:\n",
    "            answer = 'N/A'\n",
    "\n",
    "        return answer\n",
    "\n",
    "    async def a_generate(self, prompt: str) -> str:\n",
    "        return self.generate(prompt)\n",
    "\n",
    "    # This is optional.\n",
    "    def batch_generate(self, promtps: list[str]) -> list[str]:\n",
    "        model = self.load_model()\n",
    "        device = \"cuda\" # the device to load the model onto\n",
    "\n",
    "        model_inputs = self.tokenizer(\n",
    "            promtps,\n",
    "            padding=True,    # Ensure equal-length inputs\n",
    "            truncation=True, # Truncate inputs that exceed max_length\n",
    "            max_length=512,\n",
    "            return_tensors=\"pt\").to(device)\n",
    "        model.to(device)\n",
    "\n",
    "        generated_ids = model.generate(\n",
    "            **model_inputs,\n",
    "            max_new_tokens=100, use_cache=True)\n",
    "        decoded_responses = self.tokenizer.batch_decode(generated_ids, skip_special_tokens=True)\n",
    "        return decoded_responses\n",
    "\n",
    "    def get_model_name(self):\n",
    "        return \"Llama 3\"\n",
    "\n",
    "\n",
    "llama3 = Llama3(model=model, tokenizer=tokenizer)\n",
    "\n",
    "test = \"\"\"\n",
    "\n",
    "The following are multiple choice questions (with answers) are sentence completion problems about Applying sunscreen.\n",
    "\n",
    "Then, the man writes over the snow covering the window of a car, and a woman wearing winter clothes smiles. then\n",
    "A., the man adds wax to the windshield and cuts it.\n",
    "B., a person board a ski lift, while two men supporting the head of the person wearing winter clothes snow as the we girls sled.\n",
    "C., the man puts on a christmas coat, knitted with netting.\n",
    "D., the man continues removing the snow on his car.\n",
    "Answer: D\n",
    "\n",
    "A female chef in white uniform shows a stack of baking pans in a large kitchen presenting them. the pans\n",
    "A. contain egg yolks and baking soda.\n",
    "B. are then sprinkled with brown sugar.\n",
    "C. are placed in a strainer on the counter.\n",
    "D. are filled with pastries and loaded into the oven.\n",
    "Answer: D\n",
    "\n",
    "The man in the center is demonstrating a hairstyle on the person wearing the blue shirt. the man in the blue shirt\n",
    "A. is standing on the sponge cutting the hair of the person wearing the blue shirt.\n",
    "B. is doing the hairstyle with his hand and the hairspray.\n",
    "C. sits on the chair next to the sink.\n",
    "D. is being shown eye to eye.\n",
    "Answer: C\n",
    "\n",
    "Two bodybuilder women are seated at a table. they\n",
    "A. are talking about diving techniques, bribing each other with muscle' n strength.\n",
    "B. are working out on exercise bikes.\n",
    "C. are arm wrestling, vieing to win.\n",
    "D. are shown on parallel bars.\n",
    "Answer: C\n",
    "\n",
    "This is a tutorial on how to start a campfire. it\n",
    "A. shows how to light the fire by rubbing a lid on it.\n",
    "B. is supposed to be a fire log, but your dad said that he might have burned it, and that if he catches fire it will hurt him.\n",
    "C. shows the campfire burning on the ground.\n",
    "D. is a green and red sweet and the recipe is to make it hot and then puts it in a pan to simmer.\n",
    "Answer: C\n",
    "\n",
    "A woman puts some lotion on her hand. She rubs the lotion onto her face. a cartoon demonstration\n",
    "A. is shown with a curling brush.\n",
    "B. is then shown of a woman crying.\n",
    "C. is shown on the screen.\n",
    "D. of a cat is shown.\n",
    "Answer:\n",
    "\n",
    "Output A, B, C, or D. Full answer not needed.\n",
    "\"\"\"\n",
    "\n",
    "# Call the generate method\n",
    "print(llama3.generate(test))"
   ]
  },
  {
   "cell_type": "code",
   "execution_count": 203,
   "id": "d1e05f49-ec88-4cbc-a530-7d94c2ada56c",
   "metadata": {},
   "outputs": [],
   "source": [
    "benchmark = HellaSwag(\n",
    "    # tasks=[HellaSwagTask.APPLYING_SUNSCREEN, HellaSwagTask.SKATEBOARDING],\n",
    "    n_shots=5)"
   ]
  },
  {
   "cell_type": "code",
   "execution_count": null,
   "id": "51d734e1-c3a5-435b-97aa-8d22cb3ba199",
   "metadata": {},
   "outputs": [
    {
     "name": "stderr",
     "output_type": "stream",
     "text": [
      "Processing Applying sunscreen:   0%|          | 0/20 [00:00<?, ?it/s]Setting `pad_token_id` to `eos_token_id`:None for open-end generation.\n",
      "Processing Applying sunscreen:   5%|▌         | 1/20 [00:00<00:03,  4.75it/s]Setting `pad_token_id` to `eos_token_id`:None for open-end generation.\n",
      "Processing Applying sunscreen:  10%|█         | 2/20 [00:00<00:02,  6.26it/s]Setting `pad_token_id` to `eos_token_id`:None for open-end generation.\n",
      "Processing Applying sunscreen:  15%|█▌        | 3/20 [00:00<00:02,  6.00it/s]Setting `pad_token_id` to `eos_token_id`:None for open-end generation.\n",
      "Processing Applying sunscreen:  20%|██        | 4/20 [00:00<00:02,  5.89it/s]Setting `pad_token_id` to `eos_token_id`:None for open-end generation.\n",
      "Processing Applying sunscreen:  25%|██▌       | 5/20 [00:00<00:02,  5.84it/s]Setting `pad_token_id` to `eos_token_id`:None for open-end generation.\n",
      "Processing Applying sunscreen:  30%|███       | 6/20 [00:01<00:02,  5.82it/s]Setting `pad_token_id` to `eos_token_id`:None for open-end generation.\n",
      "Processing Applying sunscreen:  35%|███▌      | 7/20 [00:04<00:17,  1.37s/it]Setting `pad_token_id` to `eos_token_id`:None for open-end generation.\n",
      "Processing Applying sunscreen:  40%|████      | 8/20 [00:05<00:11,  1.01it/s]Setting `pad_token_id` to `eos_token_id`:None for open-end generation.\n",
      "Processing Applying sunscreen:  45%|████▌     | 9/20 [00:05<00:08,  1.36it/s]Setting `pad_token_id` to `eos_token_id`:None for open-end generation.\n",
      "Processing Applying sunscreen:  50%|█████     | 10/20 [00:05<00:05,  1.80it/s]Setting `pad_token_id` to `eos_token_id`:None for open-end generation.\n",
      "Processing Applying sunscreen:  55%|█████▌    | 11/20 [00:05<00:03,  2.28it/s]Setting `pad_token_id` to `eos_token_id`:None for open-end generation.\n",
      "Processing Applying sunscreen:  60%|██████    | 12/20 [00:05<00:02,  2.79it/s]Setting `pad_token_id` to `eos_token_id`:None for open-end generation.\n",
      "Processing Applying sunscreen:  65%|██████▌   | 13/20 [00:05<00:02,  3.38it/s]Setting `pad_token_id` to `eos_token_id`:None for open-end generation.\n",
      "Processing Applying sunscreen:  70%|███████   | 14/20 [00:06<00:01,  3.46it/s]Setting `pad_token_id` to `eos_token_id`:None for open-end generation.\n",
      "Processing Applying sunscreen:  75%|███████▌  | 15/20 [00:09<00:06,  1.36s/it]Setting `pad_token_id` to `eos_token_id`:None for open-end generation.\n",
      "Processing Applying sunscreen:  80%|████████  | 16/20 [00:10<00:04,  1.00s/it]Setting `pad_token_id` to `eos_token_id`:None for open-end generation.\n",
      "Processing Applying sunscreen:  85%|████████▌ | 17/20 [00:10<00:02,  1.13it/s]Setting `pad_token_id` to `eos_token_id`:None for open-end generation.\n",
      "Processing Applying sunscreen:  90%|█████████ | 18/20 [00:10<00:01,  1.51it/s]Setting `pad_token_id` to `eos_token_id`:None for open-end generation.\n",
      "Processing Applying sunscreen:  95%|█████████▌| 19/20 [00:11<00:00,  1.50it/s]Setting `pad_token_id` to `eos_token_id`:None for open-end generation.\n",
      "Processing Applying sunscreen: 100%|██████████| 20/20 [00:11<00:00,  1.70it/s]\n"
     ]
    },
    {
     "name": "stdout",
     "output_type": "stream",
     "text": [
      "HellaSwag Task Accuracy (task=Applying sunscreen): 0.35\n"
     ]
    },
    {
     "name": "stderr",
     "output_type": "stream",
     "text": [
      "Processing Trimming branches or hedges:   0%|          | 0/4 [00:00<?, ?it/s]Setting `pad_token_id` to `eos_token_id`:None for open-end generation.\n",
      "Processing Trimming branches or hedges:  25%|██▌       | 1/4 [00:00<00:00,  6.66it/s]Setting `pad_token_id` to `eos_token_id`:None for open-end generation.\n",
      "Processing Trimming branches or hedges:  50%|█████     | 2/4 [00:00<00:00,  6.07it/s]Setting `pad_token_id` to `eos_token_id`:None for open-end generation.\n",
      "Processing Trimming branches or hedges:  75%|███████▌  | 3/4 [00:00<00:00,  6.29it/s]Setting `pad_token_id` to `eos_token_id`:None for open-end generation.\n",
      "Processing Trimming branches or hedges: 100%|██████████| 4/4 [00:00<00:00,  6.35it/s]\n"
     ]
    },
    {
     "name": "stdout",
     "output_type": "stream",
     "text": [
      "HellaSwag Task Accuracy (task=Trimming branches or hedges): 0.75\n"
     ]
    },
    {
     "name": "stderr",
     "output_type": "stream",
     "text": [
      "Processing Disc dog:   0%|          | 0/32 [00:00<?, ?it/s]Setting `pad_token_id` to `eos_token_id`:None for open-end generation.\n",
      "Processing Disc dog:   3%|▎         | 1/32 [00:00<00:04,  6.68it/s]Setting `pad_token_id` to `eos_token_id`:None for open-end generation.\n",
      "Processing Disc dog:   6%|▋         | 2/32 [00:00<00:04,  6.62it/s]Setting `pad_token_id` to `eos_token_id`:None for open-end generation.\n",
      "Processing Disc dog:   9%|▉         | 3/32 [00:04<00:53,  1.83s/it]Setting `pad_token_id` to `eos_token_id`:None for open-end generation.\n",
      "Processing Disc dog:  12%|█▎        | 4/32 [00:04<00:32,  1.17s/it]Setting `pad_token_id` to `eos_token_id`:None for open-end generation.\n",
      "Processing Disc dog:  16%|█▌        | 5/32 [00:04<00:21,  1.24it/s]Setting `pad_token_id` to `eos_token_id`:None for open-end generation.\n",
      "Processing Disc dog:  19%|█▉        | 6/32 [00:04<00:15,  1.72it/s]Setting `pad_token_id` to `eos_token_id`:None for open-end generation.\n",
      "Processing Disc dog:  22%|██▏       | 7/32 [00:04<00:11,  2.26it/s]Setting `pad_token_id` to `eos_token_id`:None for open-end generation.\n",
      "Processing Disc dog:  25%|██▌       | 8/32 [00:04<00:08,  2.86it/s]Setting `pad_token_id` to `eos_token_id`:None for open-end generation.\n",
      "Processing Disc dog:  28%|██▊       | 9/32 [00:05<00:06,  3.59it/s]Setting `pad_token_id` to `eos_token_id`:None for open-end generation.\n",
      "Processing Disc dog:  31%|███▏      | 10/32 [00:05<00:05,  4.17it/s]Setting `pad_token_id` to `eos_token_id`:None for open-end generation.\n",
      "Processing Disc dog:  34%|███▍      | 11/32 [00:05<00:04,  4.69it/s]Setting `pad_token_id` to `eos_token_id`:None for open-end generation.\n",
      "Processing Disc dog:  38%|███▊      | 12/32 [00:05<00:03,  5.12it/s]Setting `pad_token_id` to `eos_token_id`:None for open-end generation.\n",
      "Processing Disc dog:  41%|████      | 13/32 [00:05<00:03,  5.29it/s]Setting `pad_token_id` to `eos_token_id`:None for open-end generation.\n",
      "Processing Disc dog:  44%|████▍     | 14/32 [00:05<00:03,  5.62it/s]Setting `pad_token_id` to `eos_token_id`:None for open-end generation.\n",
      "Processing Disc dog:  47%|████▋     | 15/32 [00:05<00:02,  5.86it/s]Setting `pad_token_id` to `eos_token_id`:None for open-end generation.\n",
      "Processing Disc dog:  50%|█████     | 16/32 [00:06<00:02,  5.83it/s]Setting `pad_token_id` to `eos_token_id`:None for open-end generation.\n",
      "Processing Disc dog:  53%|█████▎    | 17/32 [00:06<00:02,  6.02it/s]Setting `pad_token_id` to `eos_token_id`:None for open-end generation.\n",
      "Processing Disc dog:  56%|█████▋    | 18/32 [00:06<00:02,  6.17it/s]Setting `pad_token_id` to `eos_token_id`:None for open-end generation.\n",
      "Processing Disc dog:  59%|█████▉    | 19/32 [00:06<00:02,  6.02it/s]Setting `pad_token_id` to `eos_token_id`:None for open-end generation.\n",
      "Processing Disc dog:  62%|██████▎   | 20/32 [00:06<00:01,  6.16it/s]Setting `pad_token_id` to `eos_token_id`:None for open-end generation.\n",
      "Processing Disc dog:  66%|██████▌   | 21/32 [00:07<00:02,  4.75it/s]Setting `pad_token_id` to `eos_token_id`:None for open-end generation.\n",
      "Processing Disc dog:  69%|██████▉   | 22/32 [00:07<00:01,  5.19it/s]Setting `pad_token_id` to `eos_token_id`:None for open-end generation.\n",
      "Processing Disc dog:  72%|███████▏  | 23/32 [00:07<00:01,  5.54it/s]Setting `pad_token_id` to `eos_token_id`:None for open-end generation.\n",
      "Processing Disc dog:  75%|███████▌  | 24/32 [00:07<00:01,  5.82it/s]Setting `pad_token_id` to `eos_token_id`:None for open-end generation.\n",
      "Processing Disc dog:  78%|███████▊  | 25/32 [00:07<00:01,  5.79it/s]Setting `pad_token_id` to `eos_token_id`:None for open-end generation.\n",
      "Processing Disc dog:  81%|████████▏ | 26/32 [00:07<00:01,  6.00it/s]Setting `pad_token_id` to `eos_token_id`:None for open-end generation.\n",
      "Processing Disc dog:  84%|████████▍ | 27/32 [00:08<00:00,  5.92it/s]Setting `pad_token_id` to `eos_token_id`:None for open-end generation.\n",
      "Processing Disc dog:  88%|████████▊ | 28/32 [00:08<00:00,  5.87it/s]Setting `pad_token_id` to `eos_token_id`:None for open-end generation.\n",
      "Processing Disc dog:  91%|█████████ | 29/32 [00:08<00:00,  5.84it/s]Setting `pad_token_id` to `eos_token_id`:None for open-end generation.\n",
      "Processing Disc dog:  94%|█████████▍| 30/32 [00:08<00:00,  5.79it/s]Setting `pad_token_id` to `eos_token_id`:None for open-end generation.\n",
      "Processing Disc dog:  97%|█████████▋| 31/32 [00:08<00:00,  6.34it/s]Setting `pad_token_id` to `eos_token_id`:None for open-end generation.\n",
      "Processing Disc dog: 100%|██████████| 32/32 [00:08<00:00,  3.61it/s]\n"
     ]
    },
    {
     "name": "stdout",
     "output_type": "stream",
     "text": [
      "HellaSwag Task Accuracy (task=Disc dog): 0.5\n"
     ]
    },
    {
     "name": "stderr",
     "output_type": "stream",
     "text": [
      "Processing Wakeboarding:   0%|          | 0/13 [00:00<?, ?it/s]Setting `pad_token_id` to `eos_token_id`:None for open-end generation.\n",
      "Processing Wakeboarding:   8%|▊         | 1/13 [00:00<00:01,  6.64it/s]Setting `pad_token_id` to `eos_token_id`:None for open-end generation.\n",
      "Processing Wakeboarding:  15%|█▌        | 2/13 [00:00<00:01,  7.40it/s]Setting `pad_token_id` to `eos_token_id`:None for open-end generation.\n",
      "Processing Wakeboarding:  23%|██▎       | 3/13 [00:00<00:01,  7.00it/s]Setting `pad_token_id` to `eos_token_id`:None for open-end generation.\n",
      "Processing Wakeboarding:  31%|███       | 4/13 [00:00<00:01,  6.43it/s]Setting `pad_token_id` to `eos_token_id`:None for open-end generation.\n",
      "Processing Wakeboarding:  38%|███▊      | 5/13 [00:00<00:01,  6.48it/s]Setting `pad_token_id` to `eos_token_id`:None for open-end generation.\n",
      "Processing Wakeboarding:  46%|████▌     | 6/13 [00:00<00:01,  6.51it/s]Setting `pad_token_id` to `eos_token_id`:None for open-end generation.\n",
      "Processing Wakeboarding:  54%|█████▍    | 7/13 [00:01<00:00,  6.51it/s]Setting `pad_token_id` to `eos_token_id`:None for open-end generation.\n",
      "Processing Wakeboarding:  62%|██████▏   | 8/13 [00:01<00:00,  6.53it/s]Setting `pad_token_id` to `eos_token_id`:None for open-end generation.\n",
      "Processing Wakeboarding:  69%|██████▉   | 9/13 [00:01<00:00,  6.49it/s]Setting `pad_token_id` to `eos_token_id`:None for open-end generation.\n",
      "Processing Wakeboarding:  77%|███████▋  | 10/13 [00:01<00:00,  6.52it/s]Setting `pad_token_id` to `eos_token_id`:None for open-end generation.\n",
      "Processing Wakeboarding:  85%|████████▍ | 11/13 [00:01<00:00,  6.54it/s]Setting `pad_token_id` to `eos_token_id`:None for open-end generation.\n",
      "Processing Wakeboarding:  92%|█████████▏| 12/13 [00:01<00:00,  6.55it/s]Setting `pad_token_id` to `eos_token_id`:None for open-end generation.\n",
      "Processing Wakeboarding: 100%|██████████| 13/13 [00:02<00:00,  6.20it/s]\n"
     ]
    },
    {
     "name": "stdout",
     "output_type": "stream",
     "text": [
      "HellaSwag Task Accuracy (task=Wakeboarding): 0.6923076923076923\n"
     ]
    },
    {
     "name": "stderr",
     "output_type": "stream",
     "text": [
      "Processing Skateboarding:   0%|          | 0/9 [00:00<?, ?it/s]Setting `pad_token_id` to `eos_token_id`:None for open-end generation.\n",
      "Processing Skateboarding:  11%|█         | 1/9 [00:00<00:01,  6.64it/s]Setting `pad_token_id` to `eos_token_id`:None for open-end generation.\n",
      "Processing Skateboarding:  22%|██▏       | 2/9 [00:00<00:01,  6.59it/s]Setting `pad_token_id` to `eos_token_id`:None for open-end generation.\n",
      "Processing Skateboarding:  33%|███▎      | 3/9 [00:00<00:00,  6.12it/s]Setting `pad_token_id` to `eos_token_id`:None for open-end generation.\n",
      "Processing Skateboarding:  44%|████▍     | 4/9 [00:04<00:08,  1.60s/it]Setting `pad_token_id` to `eos_token_id`:None for open-end generation.\n",
      "Processing Skateboarding:  56%|█████▌    | 5/9 [00:04<00:04,  1.07s/it]Setting `pad_token_id` to `eos_token_id`:None for open-end generation.\n",
      "Processing Skateboarding:  67%|██████▋   | 6/9 [00:04<00:02,  1.32it/s]Setting `pad_token_id` to `eos_token_id`:None for open-end generation.\n",
      "Processing Skateboarding:  78%|███████▊  | 7/9 [00:04<00:01,  1.78it/s]Setting `pad_token_id` to `eos_token_id`:None for open-end generation.\n",
      "Processing Skateboarding:  89%|████████▉ | 8/9 [00:04<00:00,  2.32it/s]Setting `pad_token_id` to `eos_token_id`:None for open-end generation.\n",
      "Processing Skateboarding: 100%|██████████| 9/9 [00:05<00:00,  1.79it/s]\n"
     ]
    },
    {
     "name": "stdout",
     "output_type": "stream",
     "text": [
      "HellaSwag Task Accuracy (task=Skateboarding): 0.3333333333333333\n"
     ]
    },
    {
     "name": "stderr",
     "output_type": "stream",
     "text": [
      "Processing Waterskiing:   0%|          | 0/19 [00:00<?, ?it/s]Setting `pad_token_id` to `eos_token_id`:None for open-end generation.\n",
      "Processing Waterskiing:   5%|▌         | 1/19 [00:00<00:02,  6.56it/s]Setting `pad_token_id` to `eos_token_id`:None for open-end generation.\n",
      "Processing Waterskiing:  11%|█         | 2/19 [00:00<00:02,  6.57it/s]Setting `pad_token_id` to `eos_token_id`:None for open-end generation.\n",
      "Processing Waterskiing:  16%|█▌        | 3/19 [00:00<00:02,  6.56it/s]Setting `pad_token_id` to `eos_token_id`:None for open-end generation.\n",
      "Processing Waterskiing:  21%|██        | 4/19 [00:00<00:02,  6.55it/s]Setting `pad_token_id` to `eos_token_id`:None for open-end generation.\n",
      "Processing Waterskiing:  26%|██▋       | 5/19 [00:00<00:02,  6.53it/s]Setting `pad_token_id` to `eos_token_id`:None for open-end generation.\n",
      "Processing Waterskiing:  32%|███▏      | 6/19 [00:00<00:01,  6.51it/s]Setting `pad_token_id` to `eos_token_id`:None for open-end generation.\n",
      "Processing Waterskiing:  37%|███▋      | 7/19 [00:01<00:01,  6.53it/s]Setting `pad_token_id` to `eos_token_id`:None for open-end generation.\n",
      "Processing Waterskiing:  42%|████▏     | 8/19 [00:01<00:01,  6.95it/s]Setting `pad_token_id` to `eos_token_id`:None for open-end generation.\n",
      "Processing Waterskiing:  47%|████▋     | 9/19 [00:01<00:01,  6.81it/s]Setting `pad_token_id` to `eos_token_id`:None for open-end generation.\n",
      "Processing Waterskiing:  53%|█████▎    | 10/19 [00:01<00:01,  6.42it/s]Setting `pad_token_id` to `eos_token_id`:None for open-end generation.\n",
      "Processing Waterskiing:  58%|█████▊    | 11/19 [00:01<00:01,  5.84it/s]Setting `pad_token_id` to `eos_token_id`:None for open-end generation.\n",
      "Processing Waterskiing:  63%|██████▎   | 12/19 [00:01<00:01,  5.46it/s]Setting `pad_token_id` to `eos_token_id`:None for open-end generation.\n",
      "Processing Waterskiing:  68%|██████▊   | 13/19 [00:02<00:01,  5.54it/s]Setting `pad_token_id` to `eos_token_id`:None for open-end generation.\n",
      "Processing Waterskiing:  74%|███████▎  | 14/19 [00:02<00:00,  5.81it/s]Setting `pad_token_id` to `eos_token_id`:None for open-end generation.\n",
      "Processing Waterskiing:  79%|███████▉  | 15/19 [00:02<00:00,  5.79it/s]Setting `pad_token_id` to `eos_token_id`:None for open-end generation.\n",
      "Processing Waterskiing:  84%|████████▍ | 16/19 [00:02<00:00,  4.40it/s]Setting `pad_token_id` to `eos_token_id`:None for open-end generation.\n",
      "Processing Waterskiing:  89%|████████▉ | 17/19 [00:02<00:00,  4.73it/s]Setting `pad_token_id` to `eos_token_id`:None for open-end generation.\n",
      "Processing Waterskiing:  95%|█████████▍| 18/19 [00:03<00:00,  5.41it/s]Setting `pad_token_id` to `eos_token_id`:None for open-end generation.\n",
      "Processing Waterskiing: 100%|██████████| 19/19 [00:03<00:00,  5.81it/s]\n"
     ]
    },
    {
     "name": "stdout",
     "output_type": "stream",
     "text": [
      "HellaSwag Task Accuracy (task=Waterskiing): 0.47368421052631576\n"
     ]
    },
    {
     "name": "stderr",
     "output_type": "stream",
     "text": [
      "Processing Washing hands:   0%|          | 0/5 [00:00<?, ?it/s]Setting `pad_token_id` to `eos_token_id`:None for open-end generation.\n",
      "Processing Washing hands:  20%|██        | 1/5 [00:00<00:00,  6.62it/s]Setting `pad_token_id` to `eos_token_id`:None for open-end generation.\n",
      "Processing Washing hands:  40%|████      | 2/5 [00:00<00:00,  6.57it/s]Setting `pad_token_id` to `eos_token_id`:None for open-end generation.\n",
      "Processing Washing hands:  60%|██████    | 3/5 [00:00<00:00,  6.55it/s]Setting `pad_token_id` to `eos_token_id`:None for open-end generation.\n",
      "Processing Washing hands:  80%|████████  | 4/5 [00:00<00:00,  6.55it/s]Setting `pad_token_id` to `eos_token_id`:None for open-end generation.\n",
      "Processing Washing hands: 100%|██████████| 5/5 [00:00<00:00,  6.37it/s]\n"
     ]
    },
    {
     "name": "stdout",
     "output_type": "stream",
     "text": [
      "HellaSwag Task Accuracy (task=Washing hands): 0.2\n"
     ]
    },
    {
     "name": "stderr",
     "output_type": "stream",
     "text": [
      "Processing Sailing:   0%|          | 0/4 [00:00<?, ?it/s]Setting `pad_token_id` to `eos_token_id`:None for open-end generation.\n",
      "Processing Sailing:  25%|██▌       | 1/4 [00:00<00:00,  4.89it/s]Setting `pad_token_id` to `eos_token_id`:None for open-end generation.\n",
      "Processing Sailing:  50%|█████     | 2/4 [00:00<00:00,  5.76it/s]Setting `pad_token_id` to `eos_token_id`:None for open-end generation.\n",
      "Processing Sailing:  75%|███████▌  | 3/4 [00:00<00:00,  6.09it/s]Setting `pad_token_id` to `eos_token_id`:None for open-end generation.\n",
      "Processing Sailing: 100%|██████████| 4/4 [00:00<00:00,  6.02it/s]\n"
     ]
    },
    {
     "name": "stdout",
     "output_type": "stream",
     "text": [
      "HellaSwag Task Accuracy (task=Sailing): 0.25\n"
     ]
    },
    {
     "name": "stderr",
     "output_type": "stream",
     "text": [
      "Processing Playing congas:   0%|          | 0/8 [00:00<?, ?it/s]Setting `pad_token_id` to `eos_token_id`:None for open-end generation.\n",
      "Processing Playing congas:  12%|█▎        | 1/8 [00:00<00:01,  5.75it/s]Setting `pad_token_id` to `eos_token_id`:None for open-end generation.\n",
      "Processing Playing congas:  25%|██▌       | 2/8 [00:00<00:00,  6.21it/s]Setting `pad_token_id` to `eos_token_id`:None for open-end generation.\n",
      "Processing Playing congas:  38%|███▊      | 3/8 [00:00<00:00,  6.36it/s]Setting `pad_token_id` to `eos_token_id`:None for open-end generation.\n",
      "Processing Playing congas:  50%|█████     | 4/8 [00:00<00:00,  6.44it/s]Setting `pad_token_id` to `eos_token_id`:None for open-end generation.\n",
      "Processing Playing congas:  62%|██████▎   | 5/8 [00:00<00:00,  6.46it/s]Setting `pad_token_id` to `eos_token_id`:None for open-end generation.\n",
      "Processing Playing congas:  75%|███████▌  | 6/8 [00:00<00:00,  6.93it/s]Setting `pad_token_id` to `eos_token_id`:None for open-end generation.\n",
      "Processing Playing congas:  88%|████████▊ | 7/8 [00:01<00:00,  6.07it/s]Setting `pad_token_id` to `eos_token_id`:None for open-end generation.\n",
      "Processing Playing congas: 100%|██████████| 8/8 [00:01<00:00,  6.20it/s]\n"
     ]
    },
    {
     "name": "stdout",
     "output_type": "stream",
     "text": [
      "HellaSwag Task Accuracy (task=Playing congas): 0.25\n"
     ]
    },
    {
     "name": "stderr",
     "output_type": "stream",
     "text": [
      "Processing Ballet:   0%|          | 0/7 [00:00<?, ?it/s]Setting `pad_token_id` to `eos_token_id`:None for open-end generation.\n",
      "Processing Ballet:  14%|█▍        | 1/7 [00:00<00:00,  6.47it/s]Setting `pad_token_id` to `eos_token_id`:None for open-end generation.\n",
      "Processing Ballet:  29%|██▊       | 2/7 [00:04<00:11,  2.36s/it]Setting `pad_token_id` to `eos_token_id`:None for open-end generation.\n",
      "Processing Ballet:  43%|████▎     | 3/7 [00:04<00:05,  1.41s/it]Setting `pad_token_id` to `eos_token_id`:None for open-end generation.\n",
      "Processing Ballet:  57%|█████▋    | 4/7 [00:04<00:02,  1.10it/s]Setting `pad_token_id` to `eos_token_id`:None for open-end generation.\n",
      "Processing Ballet:  71%|███████▏  | 5/7 [00:04<00:01,  1.44it/s]Setting `pad_token_id` to `eos_token_id`:None for open-end generation.\n",
      "Processing Ballet:  86%|████████▌ | 6/7 [00:04<00:00,  1.96it/s]Setting `pad_token_id` to `eos_token_id`:None for open-end generation.\n",
      "Processing Ballet: 100%|██████████| 7/7 [00:05<00:00,  1.37it/s]\n"
     ]
    },
    {
     "name": "stdout",
     "output_type": "stream",
     "text": [
      "HellaSwag Task Accuracy (task=Ballet): 0.42857142857142855\n"
     ]
    },
    {
     "name": "stderr",
     "output_type": "stream",
     "text": [
      "Processing Roof shingle removal:   0%|          | 0/14 [00:00<?, ?it/s]Setting `pad_token_id` to `eos_token_id`:None for open-end generation.\n",
      "Processing Roof shingle removal:   7%|▋         | 1/14 [00:00<00:01,  8.18it/s]Setting `pad_token_id` to `eos_token_id`:None for open-end generation.\n",
      "Processing Roof shingle removal:  14%|█▍        | 2/14 [00:00<00:01,  7.15it/s]Setting `pad_token_id` to `eos_token_id`:None for open-end generation.\n",
      "Processing Roof shingle removal:  21%|██▏       | 3/14 [00:00<00:01,  6.89it/s]Setting `pad_token_id` to `eos_token_id`:None for open-end generation.\n",
      "Processing Roof shingle removal:  29%|██▊       | 4/14 [00:00<00:01,  6.75it/s]Setting `pad_token_id` to `eos_token_id`:None for open-end generation.\n",
      "Processing Roof shingle removal:  36%|███▌      | 5/14 [00:00<00:01,  6.25it/s]Setting `pad_token_id` to `eos_token_id`:None for open-end generation.\n",
      "Processing Roof shingle removal:  43%|████▎     | 6/14 [00:03<00:09,  1.17s/it]Setting `pad_token_id` to `eos_token_id`:None for open-end generation.\n",
      "Processing Roof shingle removal:  50%|█████     | 7/14 [00:07<00:14,  2.06s/it]Setting `pad_token_id` to `eos_token_id`:None for open-end generation.\n",
      "Processing Roof shingle removal:  57%|█████▋    | 8/14 [00:08<00:10,  1.69s/it]Setting `pad_token_id` to `eos_token_id`:None for open-end generation.\n",
      "Processing Roof shingle removal:  64%|██████▍   | 9/14 [00:12<00:11,  2.37s/it]Setting `pad_token_id` to `eos_token_id`:None for open-end generation.\n",
      "Processing Roof shingle removal:  71%|███████▏  | 10/14 [00:12<00:06,  1.68s/it]Setting `pad_token_id` to `eos_token_id`:None for open-end generation.\n",
      "Processing Roof shingle removal:  79%|███████▊  | 11/14 [00:12<00:03,  1.21s/it]Setting `pad_token_id` to `eos_token_id`:None for open-end generation.\n",
      "Processing Roof shingle removal:  86%|████████▌ | 12/14 [00:12<00:01,  1.12it/s]Setting `pad_token_id` to `eos_token_id`:None for open-end generation.\n",
      "Processing Roof shingle removal:  93%|█████████▎| 13/14 [00:13<00:00,  1.50it/s]Setting `pad_token_id` to `eos_token_id`:None for open-end generation.\n",
      "Processing Roof shingle removal: 100%|██████████| 14/14 [00:13<00:00,  1.05it/s]\n"
     ]
    },
    {
     "name": "stdout",
     "output_type": "stream",
     "text": [
      "HellaSwag Task Accuracy (task=Roof shingle removal): 0.5714285714285714\n"
     ]
    },
    {
     "name": "stderr",
     "output_type": "stream",
     "text": [
      "Processing Hand car wash:   0%|          | 0/23 [00:00<?, ?it/s]Setting `pad_token_id` to `eos_token_id`:None for open-end generation.\n",
      "Processing Hand car wash:   4%|▍         | 1/23 [00:00<00:03,  5.78it/s]Setting `pad_token_id` to `eos_token_id`:None for open-end generation.\n",
      "Processing Hand car wash:   9%|▊         | 2/23 [00:00<00:03,  5.76it/s]Setting `pad_token_id` to `eos_token_id`:None for open-end generation.\n",
      "Processing Hand car wash:  13%|█▎        | 3/23 [00:00<00:03,  6.64it/s]Setting `pad_token_id` to `eos_token_id`:None for open-end generation.\n",
      "Processing Hand car wash:  17%|█▋        | 4/23 [00:00<00:02,  7.06it/s]Setting `pad_token_id` to `eos_token_id`:None for open-end generation.\n",
      "Processing Hand car wash:  22%|██▏       | 5/23 [00:00<00:02,  6.87it/s]Setting `pad_token_id` to `eos_token_id`:None for open-end generation.\n",
      "Processing Hand car wash:  26%|██▌       | 6/23 [00:00<00:02,  7.25it/s]Setting `pad_token_id` to `eos_token_id`:None for open-end generation.\n",
      "Processing Hand car wash:  30%|███       | 7/23 [00:01<00:02,  6.26it/s]Setting `pad_token_id` to `eos_token_id`:None for open-end generation.\n",
      "Processing Hand car wash:  35%|███▍      | 8/23 [00:01<00:02,  6.07it/s]Setting `pad_token_id` to `eos_token_id`:None for open-end generation.\n",
      "Processing Hand car wash:  39%|███▉      | 9/23 [00:01<00:02,  6.08it/s]Setting `pad_token_id` to `eos_token_id`:None for open-end generation.\n",
      "Processing Hand car wash:  43%|████▎     | 10/23 [00:02<00:04,  3.11it/s]Setting `pad_token_id` to `eos_token_id`:None for open-end generation.\n",
      "Processing Hand car wash:  48%|████▊     | 11/23 [00:02<00:03,  3.71it/s]Setting `pad_token_id` to `eos_token_id`:None for open-end generation.\n",
      "Processing Hand car wash:  52%|█████▏    | 12/23 [00:02<00:03,  3.59it/s]Setting `pad_token_id` to `eos_token_id`:None for open-end generation.\n",
      "Processing Hand car wash:  57%|█████▋    | 13/23 [00:02<00:02,  4.16it/s]Setting `pad_token_id` to `eos_token_id`:None for open-end generation.\n",
      "Processing Hand car wash:  61%|██████    | 14/23 [00:02<00:01,  4.69it/s]Setting `pad_token_id` to `eos_token_id`:None for open-end generation.\n",
      "Processing Hand car wash:  65%|██████▌   | 15/23 [00:02<00:01,  5.13it/s]Setting `pad_token_id` to `eos_token_id`:None for open-end generation.\n",
      "Processing Hand car wash:  70%|██████▉   | 16/23 [00:03<00:01,  5.05it/s]Setting `pad_token_id` to `eos_token_id`:None for open-end generation.\n",
      "Processing Hand car wash:  74%|███████▍  | 17/23 [00:03<00:01,  5.41it/s]Setting `pad_token_id` to `eos_token_id`:None for open-end generation.\n",
      "Processing Hand car wash:  78%|███████▊  | 18/23 [00:03<00:00,  5.72it/s]Setting `pad_token_id` to `eos_token_id`:None for open-end generation.\n",
      "Processing Hand car wash:  83%|████████▎ | 19/23 [00:03<00:00,  5.97it/s]Setting `pad_token_id` to `eos_token_id`:None for open-end generation.\n",
      "Processing Hand car wash:  87%|████████▋ | 20/23 [00:03<00:00,  6.13it/s]Setting `pad_token_id` to `eos_token_id`:None for open-end generation.\n",
      "Processing Hand car wash:  91%|█████████▏| 21/23 [00:03<00:00,  6.02it/s]Setting `pad_token_id` to `eos_token_id`:None for open-end generation.\n",
      "Processing Hand car wash:  96%|█████████▌| 22/23 [00:04<00:00,  6.16it/s]Setting `pad_token_id` to `eos_token_id`:None for open-end generation.\n",
      "Processing Hand car wash: 100%|██████████| 23/23 [00:04<00:00,  5.36it/s]\n"
     ]
    },
    {
     "name": "stdout",
     "output_type": "stream",
     "text": [
      "HellaSwag Task Accuracy (task=Hand car wash): 0.30434782608695654\n"
     ]
    },
    {
     "name": "stderr",
     "output_type": "stream",
     "text": [
      "Processing Kite flying:   0%|          | 0/2 [00:00<?, ?it/s]Setting `pad_token_id` to `eos_token_id`:None for open-end generation.\n",
      "Processing Kite flying:  50%|█████     | 1/2 [00:00<00:00,  8.14it/s]Setting `pad_token_id` to `eos_token_id`:None for open-end generation.\n",
      "Processing Kite flying: 100%|██████████| 2/2 [00:00<00:00,  7.22it/s]\n"
     ]
    },
    {
     "name": "stdout",
     "output_type": "stream",
     "text": [
      "HellaSwag Task Accuracy (task=Kite flying): 0.5\n"
     ]
    },
    {
     "name": "stderr",
     "output_type": "stream",
     "text": [
      "Processing Playing pool:   0%|          | 0/26 [00:00<?, ?it/s]Setting `pad_token_id` to `eos_token_id`:None for open-end generation.\n",
      "Processing Playing pool:   4%|▍         | 1/26 [00:00<00:03,  6.62it/s]Setting `pad_token_id` to `eos_token_id`:None for open-end generation.\n",
      "Processing Playing pool:   8%|▊         | 2/26 [00:00<00:03,  6.58it/s]Setting `pad_token_id` to `eos_token_id`:None for open-end generation.\n",
      "Processing Playing pool:  12%|█▏        | 3/26 [00:00<00:03,  7.23it/s]Setting `pad_token_id` to `eos_token_id`:None for open-end generation.\n",
      "Processing Playing pool:  15%|█▌        | 4/26 [00:00<00:03,  6.93it/s]Setting `pad_token_id` to `eos_token_id`:None for open-end generation.\n",
      "Processing Playing pool:  19%|█▉        | 5/26 [00:00<00:03,  6.76it/s]Setting `pad_token_id` to `eos_token_id`:None for open-end generation.\n",
      "Processing Playing pool:  23%|██▎       | 6/26 [00:00<00:02,  7.15it/s]Setting `pad_token_id` to `eos_token_id`:None for open-end generation.\n",
      "Processing Playing pool:  27%|██▋       | 7/26 [00:00<00:02,  7.43it/s]Setting `pad_token_id` to `eos_token_id`:None for open-end generation.\n",
      "Processing Playing pool:  31%|███       | 8/26 [00:01<00:02,  7.63it/s]Setting `pad_token_id` to `eos_token_id`:None for open-end generation.\n",
      "Processing Playing pool:  35%|███▍      | 9/26 [00:01<00:02,  7.26it/s]Setting `pad_token_id` to `eos_token_id`:None for open-end generation.\n",
      "Processing Playing pool:  38%|███▊      | 10/26 [00:01<00:02,  6.72it/s]Setting `pad_token_id` to `eos_token_id`:None for open-end generation.\n",
      "Processing Playing pool:  42%|████▏     | 11/26 [00:01<00:02,  6.67it/s]Setting `pad_token_id` to `eos_token_id`:None for open-end generation.\n",
      "Processing Playing pool:  46%|████▌     | 12/26 [00:01<00:02,  6.35it/s]Setting `pad_token_id` to `eos_token_id`:None for open-end generation.\n",
      "Processing Playing pool:  50%|█████     | 13/26 [00:01<00:02,  6.16it/s]Setting `pad_token_id` to `eos_token_id`:None for open-end generation.\n",
      "Processing Playing pool:  54%|█████▍    | 14/26 [00:02<00:01,  6.28it/s]Setting `pad_token_id` to `eos_token_id`:None for open-end generation.\n",
      "Processing Playing pool:  58%|█████▊    | 15/26 [00:02<00:02,  4.80it/s]Setting `pad_token_id` to `eos_token_id`:None for open-end generation.\n",
      "Processing Playing pool:  62%|██████▏   | 16/26 [00:02<00:02,  4.39it/s]Setting `pad_token_id` to `eos_token_id`:None for open-end generation.\n",
      "Processing Playing pool:  65%|██████▌   | 17/26 [00:02<00:01,  4.88it/s]Setting `pad_token_id` to `eos_token_id`:None for open-end generation.\n",
      "Processing Playing pool:  69%|██████▉   | 18/26 [00:02<00:01,  5.30it/s]Setting `pad_token_id` to `eos_token_id`:None for open-end generation.\n",
      "Processing Playing pool:  73%|███████▎  | 19/26 [00:03<00:01,  5.63it/s]Setting `pad_token_id` to `eos_token_id`:None for open-end generation.\n",
      "Processing Playing pool:  77%|███████▋  | 20/26 [00:03<00:01,  5.88it/s]Setting `pad_token_id` to `eos_token_id`:None for open-end generation.\n",
      "Processing Playing pool:  81%|████████  | 21/26 [00:03<00:00,  5.83it/s]Setting `pad_token_id` to `eos_token_id`:None for open-end generation.\n",
      "Processing Playing pool:  85%|████████▍ | 22/26 [00:03<00:00,  5.99it/s]Setting `pad_token_id` to `eos_token_id`:None for open-end generation.\n",
      "Processing Playing pool:  88%|████████▊ | 23/26 [00:03<00:00,  6.15it/s]Setting `pad_token_id` to `eos_token_id`:None for open-end generation.\n",
      "Processing Playing pool:  92%|█████████▏| 24/26 [00:03<00:00,  6.26it/s]Setting `pad_token_id` to `eos_token_id`:None for open-end generation.\n",
      "Processing Playing pool:  96%|█████████▌| 25/26 [00:04<00:00,  6.35it/s]Setting `pad_token_id` to `eos_token_id`:None for open-end generation.\n",
      "Processing Playing pool: 100%|██████████| 26/26 [00:04<00:00,  6.15it/s]\n"
     ]
    },
    {
     "name": "stdout",
     "output_type": "stream",
     "text": [
      "HellaSwag Task Accuracy (task=Playing pool): 0.5\n"
     ]
    },
    {
     "name": "stderr",
     "output_type": "stream",
     "text": [
      "Processing Playing lacrosse:   0%|          | 0/15 [00:00<?, ?it/s]Setting `pad_token_id` to `eos_token_id`:None for open-end generation.\n",
      "Processing Playing lacrosse:   7%|▋         | 1/15 [00:00<00:04,  3.29it/s]Setting `pad_token_id` to `eos_token_id`:None for open-end generation.\n",
      "Processing Playing lacrosse:  13%|█▎        | 2/15 [00:00<00:02,  4.38it/s]Setting `pad_token_id` to `eos_token_id`:None for open-end generation.\n",
      "Processing Playing lacrosse:  20%|██        | 3/15 [00:00<00:02,  5.55it/s]Setting `pad_token_id` to `eos_token_id`:None for open-end generation.\n",
      "Processing Playing lacrosse:  27%|██▋       | 4/15 [00:00<00:02,  5.05it/s]Setting `pad_token_id` to `eos_token_id`:None for open-end generation.\n",
      "Processing Playing lacrosse:  33%|███▎      | 5/15 [00:00<00:01,  5.85it/s]Setting `pad_token_id` to `eos_token_id`:None for open-end generation.\n",
      "Processing Playing lacrosse:  40%|████      | 6/15 [00:01<00:01,  5.48it/s]Setting `pad_token_id` to `eos_token_id`:None for open-end generation.\n",
      "Processing Playing lacrosse:  47%|████▋     | 7/15 [00:01<00:01,  5.78it/s]Setting `pad_token_id` to `eos_token_id`:None for open-end generation.\n",
      "Processing Playing lacrosse:  53%|█████▎    | 8/15 [00:01<00:01,  5.77it/s]Setting `pad_token_id` to `eos_token_id`:None for open-end generation.\n",
      "Processing Playing lacrosse:  60%|██████    | 9/15 [00:01<00:01,  5.98it/s]Setting `pad_token_id` to `eos_token_id`:None for open-end generation.\n",
      "Processing Playing lacrosse:  67%|██████▋   | 10/15 [00:01<00:00,  6.17it/s]Setting `pad_token_id` to `eos_token_id`:None for open-end generation.\n",
      "Processing Playing lacrosse:  73%|███████▎  | 11/15 [00:01<00:00,  6.04it/s]Setting `pad_token_id` to `eos_token_id`:None for open-end generation.\n",
      "Processing Playing lacrosse:  80%|████████  | 12/15 [00:02<00:00,  5.95it/s]Setting `pad_token_id` to `eos_token_id`:None for open-end generation.\n",
      "Processing Playing lacrosse:  87%|████████▋ | 13/15 [00:02<00:00,  6.12it/s]Setting `pad_token_id` to `eos_token_id`:None for open-end generation.\n",
      "Processing Playing lacrosse:  93%|█████████▎| 14/15 [00:02<00:00,  6.24it/s]Setting `pad_token_id` to `eos_token_id`:None for open-end generation.\n",
      "Processing Playing lacrosse: 100%|██████████| 15/15 [00:02<00:00,  5.79it/s]\n"
     ]
    },
    {
     "name": "stdout",
     "output_type": "stream",
     "text": [
      "HellaSwag Task Accuracy (task=Playing lacrosse): 0.13333333333333333\n"
     ]
    },
    {
     "name": "stderr",
     "output_type": "stream",
     "text": [
      "Processing Layup drill in basketball:   0%|          | 0/111 [00:00<?, ?it/s]Setting `pad_token_id` to `eos_token_id`:None for open-end generation.\n",
      "Processing Layup drill in basketball:   1%|          | 1/111 [00:00<00:17,  6.41it/s]Setting `pad_token_id` to `eos_token_id`:None for open-end generation.\n",
      "Processing Layup drill in basketball:   2%|▏         | 2/111 [00:00<00:20,  5.41it/s]Setting `pad_token_id` to `eos_token_id`:None for open-end generation.\n",
      "Processing Layup drill in basketball:   3%|▎         | 3/111 [00:00<00:21,  5.13it/s]Setting `pad_token_id` to `eos_token_id`:None for open-end generation.\n",
      "Processing Layup drill in basketball:   4%|▎         | 4/111 [00:00<00:19,  5.36it/s]Setting `pad_token_id` to `eos_token_id`:None for open-end generation.\n",
      "Processing Layup drill in basketball:   5%|▍         | 5/111 [00:00<00:18,  5.74it/s]Setting `pad_token_id` to `eos_token_id`:None for open-end generation.\n",
      "Processing Layup drill in basketball:   5%|▌         | 6/111 [00:01<00:17,  6.01it/s]Setting `pad_token_id` to `eos_token_id`:None for open-end generation.\n",
      "Processing Layup drill in basketball:   6%|▋         | 7/111 [00:01<00:16,  6.19it/s]Setting `pad_token_id` to `eos_token_id`:None for open-end generation.\n",
      "Processing Layup drill in basketball:   7%|▋         | 8/111 [00:01<00:17,  6.05it/s]Setting `pad_token_id` to `eos_token_id`:None for open-end generation.\n",
      "Processing Layup drill in basketball:   8%|▊         | 9/111 [00:01<00:17,  5.95it/s]Setting `pad_token_id` to `eos_token_id`:None for open-end generation.\n",
      "Processing Layup drill in basketball:   9%|▉         | 10/111 [00:01<00:16,  6.13it/s]Setting `pad_token_id` to `eos_token_id`:None for open-end generation.\n",
      "Processing Layup drill in basketball:  10%|▉         | 11/111 [00:01<00:16,  6.00it/s]Setting `pad_token_id` to `eos_token_id`:None for open-end generation.\n",
      "Processing Layup drill in basketball:  11%|█         | 12/111 [00:02<00:16,  5.92it/s]Setting `pad_token_id` to `eos_token_id`:None for open-end generation.\n",
      "Processing Layup drill in basketball:  12%|█▏        | 13/111 [00:05<01:39,  1.01s/it]Setting `pad_token_id` to `eos_token_id`:None for open-end generation.\n",
      "Processing Layup drill in basketball:  13%|█▎        | 14/111 [00:05<01:13,  1.31it/s]Setting `pad_token_id` to `eos_token_id`:None for open-end generation.\n",
      "Processing Layup drill in basketball:  14%|█▎        | 15/111 [00:05<00:55,  1.73it/s]Setting `pad_token_id` to `eos_token_id`:None for open-end generation.\n",
      "Processing Layup drill in basketball:  14%|█▍        | 16/111 [00:05<00:41,  2.27it/s]Setting `pad_token_id` to `eos_token_id`:None for open-end generation.\n",
      "Processing Layup drill in basketball:  15%|█▌        | 17/111 [00:05<00:33,  2.83it/s]Setting `pad_token_id` to `eos_token_id`:None for open-end generation.\n",
      "Processing Layup drill in basketball:  16%|█▌        | 18/111 [00:05<00:27,  3.41it/s]Setting `pad_token_id` to `eos_token_id`:None for open-end generation.\n",
      "Processing Layup drill in basketball:  17%|█▋        | 19/111 [00:05<00:23,  3.99it/s]Setting `pad_token_id` to `eos_token_id`:None for open-end generation.\n",
      "Processing Layup drill in basketball:  18%|█▊        | 20/111 [00:06<00:20,  4.52it/s]Setting `pad_token_id` to `eos_token_id`:None for open-end generation.\n",
      "Processing Layup drill in basketball:  19%|█▉        | 21/111 [00:06<00:18,  4.99it/s]Setting `pad_token_id` to `eos_token_id`:None for open-end generation.\n",
      "Processing Layup drill in basketball:  20%|█▉        | 22/111 [00:06<00:18,  4.82it/s]Setting `pad_token_id` to `eos_token_id`:None for open-end generation.\n",
      "Processing Layup drill in basketball:  21%|██        | 23/111 [00:06<00:18,  4.83it/s]Setting `pad_token_id` to `eos_token_id`:None for open-end generation.\n",
      "Processing Layup drill in basketball:  22%|██▏       | 24/111 [00:06<00:17,  5.06it/s]Setting `pad_token_id` to `eos_token_id`:None for open-end generation.\n",
      "Processing Layup drill in basketball:  23%|██▎       | 25/111 [00:07<00:32,  2.67it/s]Setting `pad_token_id` to `eos_token_id`:None for open-end generation.\n",
      "Processing Layup drill in basketball:  23%|██▎       | 26/111 [00:07<00:26,  3.24it/s]Setting `pad_token_id` to `eos_token_id`:None for open-end generation.\n",
      "Processing Layup drill in basketball:  24%|██▍       | 27/111 [00:11<01:52,  1.34s/it]Setting `pad_token_id` to `eos_token_id`:None for open-end generation.\n",
      "Processing Layup drill in basketball:  25%|██▌       | 28/111 [00:11<01:22,  1.01it/s]Setting `pad_token_id` to `eos_token_id`:None for open-end generation.\n",
      "Processing Layup drill in basketball:  26%|██▌       | 29/111 [00:11<01:00,  1.35it/s]Setting `pad_token_id` to `eos_token_id`:None for open-end generation.\n",
      "Processing Layup drill in basketball:  27%|██▋       | 30/111 [00:12<00:46,  1.75it/s]Setting `pad_token_id` to `eos_token_id`:None for open-end generation.\n",
      "Processing Layup drill in basketball:  28%|██▊       | 31/111 [00:12<00:35,  2.24it/s]Setting `pad_token_id` to `eos_token_id`:None for open-end generation.\n",
      "Processing Layup drill in basketball:  29%|██▉       | 32/111 [00:12<00:27,  2.86it/s]Setting `pad_token_id` to `eos_token_id`:None for open-end generation.\n",
      "Processing Layup drill in basketball:  30%|██▉       | 33/111 [00:12<00:21,  3.55it/s]Setting `pad_token_id` to `eos_token_id`:None for open-end generation.\n",
      "Processing Layup drill in basketball:  31%|███       | 34/111 [00:12<00:18,  4.12it/s]Setting `pad_token_id` to `eos_token_id`:None for open-end generation.\n",
      "Processing Layup drill in basketball:  32%|███▏      | 35/111 [00:12<00:16,  4.64it/s]Setting `pad_token_id` to `eos_token_id`:None for open-end generation.\n",
      "Processing Layup drill in basketball:  32%|███▏      | 36/111 [00:12<00:14,  5.33it/s]Setting `pad_token_id` to `eos_token_id`:None for open-end generation.\n",
      "Processing Layup drill in basketball:  33%|███▎      | 37/111 [00:12<00:12,  5.96it/s]Setting `pad_token_id` to `eos_token_id`:None for open-end generation.\n",
      "Processing Layup drill in basketball:  34%|███▍      | 38/111 [00:13<00:11,  6.13it/s]Setting `pad_token_id` to `eos_token_id`:None for open-end generation.\n",
      "Processing Layup drill in basketball:  35%|███▌      | 39/111 [00:14<00:47,  1.51it/s]Setting `pad_token_id` to `eos_token_id`:None for open-end generation.\n",
      "Processing Layup drill in basketball:  36%|███▌      | 40/111 [00:15<00:37,  1.89it/s]Setting `pad_token_id` to `eos_token_id`:None for open-end generation.\n",
      "Processing Layup drill in basketball:  37%|███▋      | 41/111 [00:15<00:29,  2.40it/s]Setting `pad_token_id` to `eos_token_id`:None for open-end generation.\n",
      "Processing Layup drill in basketball:  38%|███▊      | 42/111 [00:15<00:26,  2.57it/s]Setting `pad_token_id` to `eos_token_id`:None for open-end generation.\n",
      "Processing Layup drill in basketball:  39%|███▊      | 43/111 [00:15<00:21,  3.23it/s]Setting `pad_token_id` to `eos_token_id`:None for open-end generation.\n",
      "Processing Layup drill in basketball:  40%|███▉      | 44/111 [00:15<00:18,  3.71it/s]Setting `pad_token_id` to `eos_token_id`:None for open-end generation.\n",
      "Processing Layup drill in basketball:  41%|████      | 45/111 [00:16<00:15,  4.26it/s]Setting `pad_token_id` to `eos_token_id`:None for open-end generation.\n",
      "Processing Layup drill in basketball:  41%|████▏     | 46/111 [00:16<00:13,  4.98it/s]Setting `pad_token_id` to `eos_token_id`:None for open-end generation.\n",
      "Processing Layup drill in basketball:  42%|████▏     | 47/111 [00:16<00:11,  5.37it/s]Setting `pad_token_id` to `eos_token_id`:None for open-end generation.\n",
      "Processing Layup drill in basketball:  43%|████▎     | 48/111 [00:16<00:11,  5.47it/s]Setting `pad_token_id` to `eos_token_id`:None for open-end generation.\n",
      "Processing Layup drill in basketball:  44%|████▍     | 49/111 [00:16<00:10,  6.06it/s]Setting `pad_token_id` to `eos_token_id`:None for open-end generation.\n",
      "Processing Layup drill in basketball:  45%|████▌     | 50/111 [00:16<00:09,  6.20it/s]Setting `pad_token_id` to `eos_token_id`:None for open-end generation.\n",
      "Processing Layup drill in basketball:  46%|████▌     | 51/111 [00:16<00:09,  6.31it/s]Setting `pad_token_id` to `eos_token_id`:None for open-end generation.\n",
      "Processing Layup drill in basketball:  47%|████▋     | 52/111 [00:17<00:09,  6.13it/s]Setting `pad_token_id` to `eos_token_id`:None for open-end generation.\n",
      "Processing Layup drill in basketball:  48%|████▊     | 53/111 [00:17<00:09,  6.02it/s]Setting `pad_token_id` to `eos_token_id`:None for open-end generation.\n",
      "Processing Layup drill in basketball:  49%|████▊     | 54/111 [00:17<00:10,  5.62it/s]Setting `pad_token_id` to `eos_token_id`:None for open-end generation.\n",
      "Processing Layup drill in basketball:  50%|████▉     | 55/111 [00:17<00:09,  5.66it/s]Setting `pad_token_id` to `eos_token_id`:None for open-end generation.\n",
      "Processing Layup drill in basketball:  50%|█████     | 56/111 [00:17<00:09,  5.90it/s]Setting `pad_token_id` to `eos_token_id`:None for open-end generation.\n",
      "Processing Layup drill in basketball:  51%|█████▏    | 57/111 [00:17<00:08,  6.43it/s]Setting `pad_token_id` to `eos_token_id`:None for open-end generation.\n",
      "Processing Layup drill in basketball:  52%|█████▏    | 58/111 [00:18<00:08,  6.44it/s]Setting `pad_token_id` to `eos_token_id`:None for open-end generation.\n",
      "Processing Layup drill in basketball:  53%|█████▎    | 59/111 [00:18<00:08,  6.44it/s]Setting `pad_token_id` to `eos_token_id`:None for open-end generation.\n",
      "Processing Layup drill in basketball:  54%|█████▍    | 60/111 [00:18<00:07,  6.48it/s]Setting `pad_token_id` to `eos_token_id`:None for open-end generation.\n",
      "Processing Layup drill in basketball:  55%|█████▍    | 61/111 [00:18<00:07,  6.95it/s]Setting `pad_token_id` to `eos_token_id`:None for open-end generation.\n",
      "Processing Layup drill in basketball:  56%|█████▌    | 62/111 [00:18<00:07,  6.55it/s]Setting `pad_token_id` to `eos_token_id`:None for open-end generation.\n",
      "Processing Layup drill in basketball:  57%|█████▋    | 63/111 [00:18<00:07,  6.54it/s]Setting `pad_token_id` to `eos_token_id`:None for open-end generation.\n",
      "Processing Layup drill in basketball:  58%|█████▊    | 64/111 [00:19<00:07,  6.56it/s]Setting `pad_token_id` to `eos_token_id`:None for open-end generation.\n",
      "Processing Layup drill in basketball:  59%|█████▊    | 65/111 [00:19<00:07,  6.56it/s]Setting `pad_token_id` to `eos_token_id`:None for open-end generation.\n",
      "Processing Layup drill in basketball:  59%|█████▉    | 66/111 [00:19<00:08,  5.32it/s]Setting `pad_token_id` to `eos_token_id`:None for open-end generation.\n",
      "Processing Layup drill in basketball:  60%|██████    | 67/111 [00:19<00:08,  5.43it/s]Setting `pad_token_id` to `eos_token_id`:None for open-end generation.\n",
      "Processing Layup drill in basketball:  61%|██████▏   | 68/111 [00:19<00:07,  5.71it/s]Setting `pad_token_id` to `eos_token_id`:None for open-end generation.\n",
      "Processing Layup drill in basketball:  62%|██████▏   | 69/111 [00:19<00:07,  5.93it/s]Setting `pad_token_id` to `eos_token_id`:None for open-end generation.\n",
      "Processing Layup drill in basketball:  63%|██████▎   | 70/111 [00:20<00:06,  6.11it/s]Setting `pad_token_id` to `eos_token_id`:None for open-end generation.\n",
      "Processing Layup drill in basketball:  64%|██████▍   | 71/111 [00:20<00:06,  5.98it/s]Setting `pad_token_id` to `eos_token_id`:None for open-end generation.\n",
      "Processing Layup drill in basketball:  65%|██████▍   | 72/111 [00:24<00:49,  1.26s/it]Setting `pad_token_id` to `eos_token_id`:None for open-end generation.\n",
      "Processing Layup drill in basketball:  66%|██████▌   | 73/111 [00:24<00:35,  1.08it/s]Setting `pad_token_id` to `eos_token_id`:None for open-end generation.\n",
      "Processing Layup drill in basketball:  67%|██████▋   | 74/111 [00:24<00:25,  1.44it/s]Setting `pad_token_id` to `eos_token_id`:None for open-end generation.\n",
      "Processing Layup drill in basketball:  68%|██████▊   | 75/111 [00:24<00:18,  1.91it/s]Setting `pad_token_id` to `eos_token_id`:None for open-end generation.\n",
      "Processing Layup drill in basketball:  68%|██████▊   | 76/111 [00:24<00:14,  2.39it/s]Setting `pad_token_id` to `eos_token_id`:None for open-end generation.\n",
      "Processing Layup drill in basketball:  69%|██████▉   | 77/111 [00:24<00:11,  2.96it/s]Setting `pad_token_id` to `eos_token_id`:None for open-end generation.\n",
      "Processing Layup drill in basketball:  70%|███████   | 78/111 [00:24<00:09,  3.54it/s]Setting `pad_token_id` to `eos_token_id`:None for open-end generation.\n",
      "Processing Layup drill in basketball:  71%|███████   | 79/111 [00:25<00:07,  4.01it/s]Setting `pad_token_id` to `eos_token_id`:None for open-end generation.\n",
      "Processing Layup drill in basketball:  72%|███████▏  | 80/111 [00:25<00:07,  4.40it/s]Setting `pad_token_id` to `eos_token_id`:None for open-end generation.\n",
      "Processing Layup drill in basketball:  73%|███████▎  | 81/111 [00:25<00:06,  4.74it/s]Setting `pad_token_id` to `eos_token_id`:None for open-end generation.\n",
      "Processing Layup drill in basketball:  74%|███████▍  | 82/111 [00:25<00:05,  5.00it/s]Setting `pad_token_id` to `eos_token_id`:None for open-end generation.\n",
      "Processing Layup drill in basketball:  75%|███████▍  | 83/111 [00:25<00:05,  5.39it/s]Setting `pad_token_id` to `eos_token_id`:None for open-end generation.\n",
      "Processing Layup drill in basketball:  76%|███████▌  | 84/111 [00:25<00:04,  5.71it/s]Setting `pad_token_id` to `eos_token_id`:None for open-end generation.\n",
      "Processing Layup drill in basketball:  77%|███████▋  | 85/111 [00:26<00:04,  6.27it/s]Setting `pad_token_id` to `eos_token_id`:None for open-end generation.\n",
      "Processing Layup drill in basketball:  77%|███████▋  | 86/111 [00:26<00:03,  6.35it/s]Setting `pad_token_id` to `eos_token_id`:None for open-end generation.\n",
      "Processing Layup drill in basketball:  78%|███████▊  | 87/111 [00:26<00:03,  6.17it/s]Setting `pad_token_id` to `eos_token_id`:None for open-end generation.\n",
      "Processing Layup drill in basketball:  79%|███████▉  | 88/111 [00:26<00:04,  4.92it/s]Setting `pad_token_id` to `eos_token_id`:None for open-end generation.\n",
      "Processing Layup drill in basketball:  80%|████████  | 89/111 [00:26<00:04,  5.32it/s]Setting `pad_token_id` to `eos_token_id`:None for open-end generation.\n",
      "Processing Layup drill in basketball:  81%|████████  | 90/111 [00:27<00:04,  4.79it/s]Setting `pad_token_id` to `eos_token_id`:None for open-end generation.\n",
      "Processing Layup drill in basketball:  82%|████████▏ | 91/111 [00:27<00:03,  5.04it/s]Setting `pad_token_id` to `eos_token_id`:None for open-end generation.\n",
      "Processing Layup drill in basketball:  83%|████████▎ | 92/111 [00:27<00:03,  5.40it/s]Setting `pad_token_id` to `eos_token_id`:None for open-end generation.\n",
      "Processing Layup drill in basketball:  84%|████████▍ | 93/111 [00:27<00:03,  5.49it/s]Setting `pad_token_id` to `eos_token_id`:None for open-end generation.\n",
      "Processing Layup drill in basketball:  85%|████████▍ | 94/111 [00:27<00:03,  5.55it/s]Setting `pad_token_id` to `eos_token_id`:None for open-end generation.\n",
      "Processing Layup drill in basketball:  86%|████████▌ | 95/111 [00:27<00:02,  6.13it/s]Setting `pad_token_id` to `eos_token_id`:None for open-end generation.\n",
      "Processing Layup drill in basketball:  86%|████████▋ | 96/111 [00:28<00:02,  6.12it/s]Setting `pad_token_id` to `eos_token_id`:None for open-end generation.\n",
      "Processing Layup drill in basketball:  87%|████████▋ | 97/111 [00:28<00:02,  6.24it/s]Setting `pad_token_id` to `eos_token_id`:None for open-end generation.\n",
      "Processing Layup drill in basketball:  88%|████████▊ | 98/111 [00:28<00:02,  6.08it/s]Setting `pad_token_id` to `eos_token_id`:None for open-end generation.\n",
      "Processing Layup drill in basketball:  89%|████████▉ | 99/111 [00:28<00:01,  6.22it/s]Setting `pad_token_id` to `eos_token_id`:None for open-end generation.\n",
      "Processing Layup drill in basketball:  90%|█████████ | 100/111 [00:28<00:01,  6.31it/s]Setting `pad_token_id` to `eos_token_id`:None for open-end generation.\n",
      "Processing Layup drill in basketball:  91%|█████████ | 101/111 [00:28<00:01,  6.13it/s]Setting `pad_token_id` to `eos_token_id`:None for open-end generation.\n",
      "Processing Layup drill in basketball:  92%|█████████▏| 102/111 [00:29<00:01,  6.26it/s]Setting `pad_token_id` to `eos_token_id`:None for open-end generation.\n",
      "Processing Layup drill in basketball:  93%|█████████▎| 103/111 [00:29<00:01,  6.35it/s]Setting `pad_token_id` to `eos_token_id`:None for open-end generation.\n",
      "Processing Layup drill in basketball:  94%|█████████▎| 104/111 [00:29<00:01,  6.16it/s]Setting `pad_token_id` to `eos_token_id`:None for open-end generation.\n",
      "Processing Layup drill in basketball:  95%|█████████▍| 105/111 [00:29<00:00,  6.28it/s]Setting `pad_token_id` to `eos_token_id`:None for open-end generation.\n",
      "Processing Layup drill in basketball:  95%|█████████▌| 106/111 [00:29<00:00,  6.36it/s]Setting `pad_token_id` to `eos_token_id`:None for open-end generation.\n",
      "Processing Layup drill in basketball:  96%|█████████▋| 107/111 [00:29<00:00,  6.16it/s]Setting `pad_token_id` to `eos_token_id`:None for open-end generation.\n",
      "Processing Layup drill in basketball:  97%|█████████▋| 108/111 [00:30<00:00,  6.28it/s]Setting `pad_token_id` to `eos_token_id`:None for open-end generation.\n",
      "Processing Layup drill in basketball:  98%|█████████▊| 109/111 [00:30<00:00,  6.11it/s]Setting `pad_token_id` to `eos_token_id`:None for open-end generation.\n",
      "Processing Layup drill in basketball:  99%|█████████▉| 110/111 [00:30<00:00,  5.12it/s]Setting `pad_token_id` to `eos_token_id`:None for open-end generation.\n",
      "Processing Layup drill in basketball: 100%|██████████| 111/111 [00:30<00:00,  3.62it/s]\n"
     ]
    },
    {
     "name": "stdout",
     "output_type": "stream",
     "text": [
      "HellaSwag Task Accuracy (task=Layup drill in basketball): 0.4594594594594595\n"
     ]
    },
    {
     "name": "stderr",
     "output_type": "stream",
     "text": [
      "Processing Home and Garden:   0%|          | 0/390 [00:00<?, ?it/s]Setting `pad_token_id` to `eos_token_id`:None for open-end generation.\n",
      "Processing Home and Garden:   0%|          | 1/390 [00:04<26:30,  4.09s/it]Setting `pad_token_id` to `eos_token_id`:None for open-end generation.\n",
      "Processing Home and Garden:   1%|          | 2/390 [00:08<25:50,  4.00s/it]Setting `pad_token_id` to `eos_token_id`:None for open-end generation.\n",
      "Processing Home and Garden:   1%|          | 3/390 [00:11<25:31,  3.96s/it]Setting `pad_token_id` to `eos_token_id`:None for open-end generation.\n",
      "Processing Home and Garden:   1%|          | 4/390 [00:15<25:21,  3.94s/it]Setting `pad_token_id` to `eos_token_id`:None for open-end generation.\n",
      "Processing Home and Garden:   1%|▏         | 5/390 [00:19<25:15,  3.94s/it]Setting `pad_token_id` to `eos_token_id`:None for open-end generation.\n",
      "Processing Home and Garden:   2%|▏         | 6/390 [00:23<25:11,  3.93s/it]Setting `pad_token_id` to `eos_token_id`:None for open-end generation.\n",
      "Processing Home and Garden:   2%|▏         | 7/390 [00:23<17:28,  2.74s/it]Setting `pad_token_id` to `eos_token_id`:None for open-end generation.\n",
      "Processing Home and Garden:   2%|▏         | 8/390 [00:28<20:03,  3.15s/it]Setting `pad_token_id` to `eos_token_id`:None for open-end generation.\n",
      "Processing Home and Garden:   2%|▏         | 9/390 [00:31<21:33,  3.40s/it]Setting `pad_token_id` to `eos_token_id`:None for open-end generation.\n",
      "Processing Home and Garden:   3%|▎         | 10/390 [00:35<22:33,  3.56s/it]Setting `pad_token_id` to `eos_token_id`:None for open-end generation.\n",
      "Processing Home and Garden:   3%|▎         | 11/390 [00:37<19:40,  3.12s/it]Setting `pad_token_id` to `eos_token_id`:None for open-end generation.\n",
      "Processing Home and Garden:   3%|▎         | 12/390 [00:41<21:07,  3.35s/it]Setting `pad_token_id` to `eos_token_id`:None for open-end generation.\n",
      "Processing Home and Garden:   3%|▎         | 13/390 [00:44<19:24,  3.09s/it]Setting `pad_token_id` to `eos_token_id`:None for open-end generation.\n",
      "Processing Home and Garden:   4%|▎         | 14/390 [00:48<21:01,  3.35s/it]Setting `pad_token_id` to `eos_token_id`:None for open-end generation.\n",
      "Processing Home and Garden:   4%|▍         | 15/390 [00:52<22:08,  3.54s/it]Setting `pad_token_id` to `eos_token_id`:None for open-end generation.\n",
      "Processing Home and Garden:   4%|▍         | 16/390 [00:52<16:03,  2.58s/it]Setting `pad_token_id` to `eos_token_id`:None for open-end generation.\n",
      "Processing Home and Garden:   4%|▍         | 17/390 [00:56<18:28,  2.97s/it]Setting `pad_token_id` to `eos_token_id`:None for open-end generation.\n",
      "Processing Home and Garden:   5%|▍         | 18/390 [01:00<19:45,  3.19s/it]Setting `pad_token_id` to `eos_token_id`:None for open-end generation.\n",
      "Processing Home and Garden:   5%|▍         | 19/390 [01:04<21:01,  3.40s/it]Setting `pad_token_id` to `eos_token_id`:None for open-end generation.\n",
      "Processing Home and Garden:   5%|▌         | 20/390 [01:07<21:51,  3.54s/it]Setting `pad_token_id` to `eos_token_id`:None for open-end generation.\n",
      "Processing Home and Garden:   5%|▌         | 21/390 [01:11<22:28,  3.65s/it]Setting `pad_token_id` to `eos_token_id`:None for open-end generation.\n",
      "Processing Home and Garden:   6%|▌         | 22/390 [01:15<22:55,  3.74s/it]Setting `pad_token_id` to `eos_token_id`:None for open-end generation.\n",
      "Processing Home and Garden:   6%|▌         | 23/390 [01:19<23:17,  3.81s/it]Setting `pad_token_id` to `eos_token_id`:None for open-end generation.\n",
      "Processing Home and Garden:   6%|▌         | 24/390 [01:22<21:53,  3.59s/it]Setting `pad_token_id` to `eos_token_id`:None for open-end generation.\n",
      "Processing Home and Garden:   6%|▋         | 25/390 [01:26<22:23,  3.68s/it]Setting `pad_token_id` to `eos_token_id`:None for open-end generation.\n",
      "Processing Home and Garden:   7%|▋         | 26/390 [01:30<22:49,  3.76s/it]Setting `pad_token_id` to `eos_token_id`:None for open-end generation.\n",
      "Processing Home and Garden:   7%|▋         | 27/390 [01:34<23:07,  3.82s/it]Setting `pad_token_id` to `eos_token_id`:None for open-end generation.\n",
      "Processing Home and Garden:   7%|▋         | 28/390 [01:38<23:14,  3.85s/it]Setting `pad_token_id` to `eos_token_id`:None for open-end generation.\n",
      "Processing Home and Garden:   7%|▋         | 29/390 [01:42<23:21,  3.88s/it]Setting `pad_token_id` to `eos_token_id`:None for open-end generation.\n",
      "Processing Home and Garden:   8%|▊         | 30/390 [01:46<23:21,  3.89s/it]Setting `pad_token_id` to `eos_token_id`:None for open-end generation.\n",
      "Processing Home and Garden:   8%|▊         | 31/390 [01:50<23:18,  3.90s/it]Setting `pad_token_id` to `eos_token_id`:None for open-end generation.\n",
      "Processing Home and Garden:   8%|▊         | 32/390 [01:51<17:45,  2.98s/it]Setting `pad_token_id` to `eos_token_id`:None for open-end generation.\n",
      "Processing Home and Garden:   8%|▊         | 33/390 [01:55<19:29,  3.28s/it]Setting `pad_token_id` to `eos_token_id`:None for open-end generation.\n",
      "Processing Home and Garden:   9%|▊         | 34/390 [01:59<20:33,  3.46s/it]Setting `pad_token_id` to `eos_token_id`:None for open-end generation.\n",
      "Processing Home and Garden:   9%|▉         | 35/390 [02:02<21:15,  3.59s/it]Setting `pad_token_id` to `eos_token_id`:None for open-end generation.\n",
      "Processing Home and Garden:   9%|▉         | 36/390 [02:06<21:51,  3.70s/it]Setting `pad_token_id` to `eos_token_id`:None for open-end generation.\n",
      "Processing Home and Garden:   9%|▉         | 37/390 [02:07<16:03,  2.73s/it]Setting `pad_token_id` to `eos_token_id`:None for open-end generation.\n",
      "Processing Home and Garden:  10%|▉         | 38/390 [02:11<18:03,  3.08s/it]Setting `pad_token_id` to `eos_token_id`:None for open-end generation.\n",
      "Processing Home and Garden:  10%|█         | 39/390 [02:15<19:28,  3.33s/it]Setting `pad_token_id` to `eos_token_id`:None for open-end generation.\n",
      "Processing Home and Garden:  10%|█         | 40/390 [02:15<14:40,  2.52s/it]Setting `pad_token_id` to `eos_token_id`:None for open-end generation.\n",
      "Processing Home and Garden:  11%|█         | 41/390 [02:19<17:13,  2.96s/it]Setting `pad_token_id` to `eos_token_id`:None for open-end generation.\n",
      "Processing Home and Garden:  11%|█         | 42/390 [02:20<12:35,  2.17s/it]Setting `pad_token_id` to `eos_token_id`:None for open-end generation.\n",
      "Processing Home and Garden:  11%|█         | 43/390 [02:24<15:35,  2.70s/it]Setting `pad_token_id` to `eos_token_id`:None for open-end generation.\n",
      "Processing Home and Garden:  11%|█▏        | 44/390 [02:28<17:41,  3.07s/it]Setting `pad_token_id` to `eos_token_id`:None for open-end generation.\n",
      "Processing Home and Garden:  12%|█▏        | 45/390 [02:31<19:03,  3.31s/it]Setting `pad_token_id` to `eos_token_id`:None for open-end generation.\n",
      "Processing Home and Garden:  12%|█▏        | 46/390 [02:35<20:00,  3.49s/it]Setting `pad_token_id` to `eos_token_id`:None for open-end generation.\n",
      "Processing Home and Garden:  12%|█▏        | 47/390 [02:38<17:45,  3.11s/it]Setting `pad_token_id` to `eos_token_id`:None for open-end generation.\n",
      "Processing Home and Garden:  12%|█▏        | 48/390 [02:38<13:59,  2.45s/it]Setting `pad_token_id` to `eos_token_id`:None for open-end generation.\n",
      "Processing Home and Garden:  13%|█▎        | 49/390 [02:42<16:30,  2.91s/it]Setting `pad_token_id` to `eos_token_id`:None for open-end generation.\n",
      "Processing Home and Garden:  13%|█▎        | 50/390 [02:43<11:59,  2.12s/it]Setting `pad_token_id` to `eos_token_id`:None for open-end generation.\n",
      "Processing Home and Garden:  13%|█▎        | 51/390 [02:44<10:17,  1.82s/it]Setting `pad_token_id` to `eos_token_id`:None for open-end generation.\n",
      "Processing Home and Garden:  13%|█▎        | 52/390 [02:45<08:26,  1.50s/it]Setting `pad_token_id` to `eos_token_id`:None for open-end generation.\n",
      "Processing Home and Garden:  14%|█▎        | 53/390 [02:48<12:28,  2.22s/it]Setting `pad_token_id` to `eos_token_id`:None for open-end generation.\n",
      "Processing Home and Garden:  14%|█▍        | 54/390 [02:52<15:16,  2.73s/it]Setting `pad_token_id` to `eos_token_id`:None for open-end generation.\n",
      "Processing Home and Garden:  14%|█▍        | 55/390 [02:56<17:19,  3.10s/it]Setting `pad_token_id` to `eos_token_id`:None for open-end generation.\n",
      "Processing Home and Garden:  14%|█▍        | 56/390 [03:00<18:35,  3.34s/it]Setting `pad_token_id` to `eos_token_id`:None for open-end generation.\n",
      "Processing Home and Garden:  15%|█▍        | 57/390 [03:04<19:29,  3.51s/it]Setting `pad_token_id` to `eos_token_id`:None for open-end generation.\n",
      "Processing Home and Garden:  15%|█▍        | 58/390 [03:06<17:10,  3.10s/it]Setting `pad_token_id` to `eos_token_id`:None for open-end generation.\n",
      "Processing Home and Garden:  15%|█▌        | 59/390 [03:10<18:27,  3.35s/it]Setting `pad_token_id` to `eos_token_id`:None for open-end generation.\n",
      "Processing Home and Garden:  15%|█▌        | 60/390 [03:11<13:25,  2.44s/it]Setting `pad_token_id` to `eos_token_id`:None for open-end generation.\n",
      "Processing Home and Garden:  16%|█▌        | 61/390 [03:14<15:51,  2.89s/it]Setting `pad_token_id` to `eos_token_id`:None for open-end generation.\n",
      "Processing Home and Garden:  16%|█▌        | 62/390 [03:18<17:28,  3.20s/it]Setting `pad_token_id` to `eos_token_id`:None for open-end generation.\n",
      "Processing Home and Garden:  16%|█▌        | 63/390 [03:22<18:44,  3.44s/it]Setting `pad_token_id` to `eos_token_id`:None for open-end generation.\n",
      "Processing Home and Garden:  16%|█▋        | 64/390 [03:26<19:27,  3.58s/it]Setting `pad_token_id` to `eos_token_id`:None for open-end generation.\n",
      "Processing Home and Garden:  17%|█▋        | 65/390 [03:27<14:30,  2.68s/it]Setting `pad_token_id` to `eos_token_id`:None for open-end generation.\n",
      "Processing Home and Garden:  17%|█▋        | 66/390 [03:28<12:28,  2.31s/it]Setting `pad_token_id` to `eos_token_id`:None for open-end generation.\n",
      "Processing Home and Garden:  17%|█▋        | 67/390 [03:29<09:04,  1.69s/it]Setting `pad_token_id` to `eos_token_id`:None for open-end generation.\n",
      "Processing Home and Garden:  17%|█▋        | 68/390 [03:33<12:41,  2.36s/it]Setting `pad_token_id` to `eos_token_id`:None for open-end generation.\n",
      "Processing Home and Garden:  18%|█▊        | 69/390 [03:36<15:09,  2.83s/it]Setting `pad_token_id` to `eos_token_id`:None for open-end generation.\n",
      "Processing Home and Garden:  18%|█▊        | 70/390 [03:40<17:00,  3.19s/it]Setting `pad_token_id` to `eos_token_id`:None for open-end generation.\n",
      "Processing Home and Garden:  18%|█▊        | 71/390 [03:42<14:50,  2.79s/it]Setting `pad_token_id` to `eos_token_id`:None for open-end generation.\n",
      "Processing Home and Garden:  18%|█▊        | 72/390 [03:43<11:52,  2.24s/it]Setting `pad_token_id` to `eos_token_id`:None for open-end generation.\n",
      "Processing Home and Garden:  19%|█▊        | 73/390 [03:45<10:33,  2.00s/it]Setting `pad_token_id` to `eos_token_id`:None for open-end generation.\n",
      "Processing Home and Garden:  19%|█▉        | 74/390 [03:49<13:36,  2.59s/it]Setting `pad_token_id` to `eos_token_id`:None for open-end generation.\n",
      "Processing Home and Garden:  19%|█▉        | 75/390 [03:53<15:39,  2.98s/it]Setting `pad_token_id` to `eos_token_id`:None for open-end generation.\n",
      "Processing Home and Garden:  19%|█▉        | 76/390 [03:56<17:03,  3.26s/it]Setting `pad_token_id` to `eos_token_id`:None for open-end generation.\n",
      "Processing Home and Garden:  20%|█▉        | 77/390 [04:00<18:00,  3.45s/it]Setting `pad_token_id` to `eos_token_id`:None for open-end generation.\n",
      "Processing Home and Garden:  20%|██        | 78/390 [04:04<18:34,  3.57s/it]Setting `pad_token_id` to `eos_token_id`:None for open-end generation.\n",
      "Processing Home and Garden:  20%|██        | 79/390 [04:05<13:28,  2.60s/it]Setting `pad_token_id` to `eos_token_id`:None for open-end generation.\n",
      "Processing Home and Garden:  21%|██        | 80/390 [04:08<15:28,  3.00s/it]Setting `pad_token_id` to `eos_token_id`:None for open-end generation.\n",
      "Processing Home and Garden:  21%|██        | 81/390 [04:10<12:28,  2.42s/it]Setting `pad_token_id` to `eos_token_id`:None for open-end generation.\n",
      "Processing Home and Garden:  21%|██        | 82/390 [04:14<14:45,  2.88s/it]Setting `pad_token_id` to `eos_token_id`:None for open-end generation.\n",
      "Processing Home and Garden:  21%|██▏       | 83/390 [04:14<11:35,  2.27s/it]Setting `pad_token_id` to `eos_token_id`:None for open-end generation.\n",
      "Processing Home and Garden:  22%|██▏       | 84/390 [04:18<14:03,  2.76s/it]Setting `pad_token_id` to `eos_token_id`:None for open-end generation.\n",
      "Processing Home and Garden:  22%|██▏       | 85/390 [04:22<15:46,  3.10s/it]Setting `pad_token_id` to `eos_token_id`:None for open-end generation.\n",
      "Processing Home and Garden:  22%|██▏       | 86/390 [04:22<11:25,  2.26s/it]Setting `pad_token_id` to `eos_token_id`:None for open-end generation.\n",
      "Processing Home and Garden:  22%|██▏       | 87/390 [04:26<13:54,  2.75s/it]Setting `pad_token_id` to `eos_token_id`:None for open-end generation.\n",
      "Processing Home and Garden:  23%|██▎       | 88/390 [04:29<14:17,  2.84s/it]Setting `pad_token_id` to `eos_token_id`:None for open-end generation.\n",
      "Processing Home and Garden:  23%|██▎       | 89/390 [04:33<15:53,  3.17s/it]Setting `pad_token_id` to `eos_token_id`:None for open-end generation.\n",
      "Processing Home and Garden:  23%|██▎       | 90/390 [04:37<16:57,  3.39s/it]Setting `pad_token_id` to `eos_token_id`:None for open-end generation.\n",
      "Processing Home and Garden:  23%|██▎       | 91/390 [04:41<17:47,  3.57s/it]Setting `pad_token_id` to `eos_token_id`:None for open-end generation.\n",
      "Processing Home and Garden:  24%|██▎       | 92/390 [04:45<18:16,  3.68s/it]Setting `pad_token_id` to `eos_token_id`:None for open-end generation.\n",
      "Processing Home and Garden:  24%|██▍       | 93/390 [04:49<18:36,  3.76s/it]Setting `pad_token_id` to `eos_token_id`:None for open-end generation.\n",
      "Processing Home and Garden:  24%|██▍       | 94/390 [04:53<18:47,  3.81s/it]Setting `pad_token_id` to `eos_token_id`:None for open-end generation.\n",
      "Processing Home and Garden:  24%|██▍       | 95/390 [04:57<18:57,  3.86s/it]Setting `pad_token_id` to `eos_token_id`:None for open-end generation.\n",
      "Processing Home and Garden:  25%|██▍       | 96/390 [05:01<18:57,  3.87s/it]Setting `pad_token_id` to `eos_token_id`:None for open-end generation.\n",
      "Processing Home and Garden:  25%|██▍       | 97/390 [05:05<18:52,  3.86s/it]Setting `pad_token_id` to `eos_token_id`:None for open-end generation.\n",
      "Processing Home and Garden:  25%|██▌       | 98/390 [05:09<18:50,  3.87s/it]Setting `pad_token_id` to `eos_token_id`:None for open-end generation.\n",
      "Processing Home and Garden:  25%|██▌       | 99/390 [05:13<18:58,  3.91s/it]Setting `pad_token_id` to `eos_token_id`:None for open-end generation.\n",
      "Processing Home and Garden:  26%|██▌       | 100/390 [05:13<14:21,  2.97s/it]Setting `pad_token_id` to `eos_token_id`:None for open-end generation.\n",
      "Processing Home and Garden:  26%|██▌       | 101/390 [05:17<15:42,  3.26s/it]Setting `pad_token_id` to `eos_token_id`:None for open-end generation.\n",
      "Processing Home and Garden:  26%|██▌       | 102/390 [05:21<16:37,  3.46s/it]Setting `pad_token_id` to `eos_token_id`:None for open-end generation.\n",
      "Processing Home and Garden:  26%|██▋       | 103/390 [05:25<17:16,  3.61s/it]Setting `pad_token_id` to `eos_token_id`:None for open-end generation.\n",
      "Processing Home and Garden:  27%|██▋       | 104/390 [05:29<17:33,  3.68s/it]Setting `pad_token_id` to `eos_token_id`:None for open-end generation.\n",
      "Processing Home and Garden:  27%|██▋       | 105/390 [05:30<12:57,  2.73s/it]Setting `pad_token_id` to `eos_token_id`:None for open-end generation.\n",
      "Processing Home and Garden:  27%|██▋       | 106/390 [05:32<12:26,  2.63s/it]Setting `pad_token_id` to `eos_token_id`:None for open-end generation.\n",
      "Processing Home and Garden:  27%|██▋       | 107/390 [05:36<14:14,  3.02s/it]Setting `pad_token_id` to `eos_token_id`:None for open-end generation.\n",
      "Processing Home and Garden:  28%|██▊       | 108/390 [05:40<15:24,  3.28s/it]Setting `pad_token_id` to `eos_token_id`:None for open-end generation.\n",
      "Processing Home and Garden:  28%|██▊       | 109/390 [05:44<16:19,  3.48s/it]Setting `pad_token_id` to `eos_token_id`:None for open-end generation.\n",
      "Processing Home and Garden:  28%|██▊       | 110/390 [05:46<14:49,  3.18s/it]Setting `pad_token_id` to `eos_token_id`:None for open-end generation.\n",
      "Processing Home and Garden:  28%|██▊       | 111/390 [05:50<15:51,  3.41s/it]Setting `pad_token_id` to `eos_token_id`:None for open-end generation.\n",
      "Processing Home and Garden:  29%|██▊       | 112/390 [05:54<16:33,  3.57s/it]Setting `pad_token_id` to `eos_token_id`:None for open-end generation.\n",
      "Processing Home and Garden:  29%|██▉       | 113/390 [05:58<17:02,  3.69s/it]Setting `pad_token_id` to `eos_token_id`:None for open-end generation.\n",
      "Processing Home and Garden:  29%|██▉       | 114/390 [05:58<12:15,  2.67s/it]Setting `pad_token_id` to `eos_token_id`:None for open-end generation.\n",
      "Processing Home and Garden:  29%|██▉       | 115/390 [05:59<08:55,  1.95s/it]Setting `pad_token_id` to `eos_token_id`:None for open-end generation.\n",
      "Processing Home and Garden:  30%|██▉       | 116/390 [05:59<06:36,  1.45s/it]Setting `pad_token_id` to `eos_token_id`:None for open-end generation.\n",
      "Processing Home and Garden:  30%|███       | 117/390 [06:03<09:59,  2.19s/it]Setting `pad_token_id` to `eos_token_id`:None for open-end generation.\n",
      "Processing Home and Garden:  30%|███       | 118/390 [06:03<07:18,  1.61s/it]Setting `pad_token_id` to `eos_token_id`:None for open-end generation.\n",
      "Processing Home and Garden:  31%|███       | 119/390 [06:05<07:08,  1.58s/it]Setting `pad_token_id` to `eos_token_id`:None for open-end generation.\n",
      "Processing Home and Garden:  31%|███       | 120/390 [06:09<10:14,  2.28s/it]Setting `pad_token_id` to `eos_token_id`:None for open-end generation.\n",
      "Processing Home and Garden:  31%|███       | 121/390 [06:13<12:33,  2.80s/it]Setting `pad_token_id` to `eos_token_id`:None for open-end generation.\n",
      "Processing Home and Garden:  31%|███▏      | 122/390 [06:17<14:05,  3.16s/it]Setting `pad_token_id` to `eos_token_id`:None for open-end generation.\n",
      "Processing Home and Garden:  32%|███▏      | 123/390 [06:21<15:07,  3.40s/it]Setting `pad_token_id` to `eos_token_id`:None for open-end generation.\n",
      "Processing Home and Garden:  32%|███▏      | 124/390 [06:24<15:47,  3.56s/it]Setting `pad_token_id` to `eos_token_id`:None for open-end generation.\n",
      "Processing Home and Garden:  32%|███▏      | 125/390 [06:28<16:15,  3.68s/it]Setting `pad_token_id` to `eos_token_id`:None for open-end generation.\n",
      "Processing Home and Garden:  32%|███▏      | 126/390 [06:30<12:56,  2.94s/it]Setting `pad_token_id` to `eos_token_id`:None for open-end generation.\n",
      "Processing Home and Garden:  33%|███▎      | 127/390 [06:34<14:09,  3.23s/it]Setting `pad_token_id` to `eos_token_id`:None for open-end generation.\n",
      "Processing Home and Garden:  33%|███▎      | 128/390 [06:34<10:13,  2.34s/it]Setting `pad_token_id` to `eos_token_id`:None for open-end generation.\n",
      "Processing Home and Garden:  33%|███▎      | 129/390 [06:35<09:15,  2.13s/it]Setting `pad_token_id` to `eos_token_id`:None for open-end generation.\n",
      "Processing Home and Garden:  33%|███▎      | 130/390 [06:39<11:32,  2.66s/it]Setting `pad_token_id` to `eos_token_id`:None for open-end generation.\n",
      "Processing Home and Garden:  34%|███▎      | 131/390 [06:43<13:07,  3.04s/it]Setting `pad_token_id` to `eos_token_id`:None for open-end generation.\n",
      "Processing Home and Garden:  34%|███▍      | 132/390 [06:47<14:18,  3.33s/it]Setting `pad_token_id` to `eos_token_id`:None for open-end generation.\n",
      "Processing Home and Garden:  34%|███▍      | 133/390 [06:51<14:59,  3.50s/it]Setting `pad_token_id` to `eos_token_id`:None for open-end generation.\n",
      "Processing Home and Garden:  34%|███▍      | 134/390 [06:51<10:52,  2.55s/it]Setting `pad_token_id` to `eos_token_id`:None for open-end generation.\n",
      "Processing Home and Garden:  35%|███▍      | 135/390 [06:52<07:55,  1.87s/it]Setting `pad_token_id` to `eos_token_id`:None for open-end generation.\n",
      "Processing Home and Garden:  35%|███▍      | 136/390 [06:52<05:52,  1.39s/it]Setting `pad_token_id` to `eos_token_id`:None for open-end generation.\n",
      "Processing Home and Garden:  35%|███▌      | 137/390 [06:56<09:08,  2.17s/it]Setting `pad_token_id` to `eos_token_id`:None for open-end generation.\n",
      "Processing Home and Garden:  35%|███▌      | 138/390 [07:00<11:16,  2.69s/it]Setting `pad_token_id` to `eos_token_id`:None for open-end generation.\n",
      "Processing Home and Garden:  36%|███▌      | 139/390 [07:04<12:46,  3.05s/it]Setting `pad_token_id` to `eos_token_id`:None for open-end generation.\n",
      "Processing Home and Garden:  36%|███▌      | 140/390 [07:08<13:53,  3.33s/it]Setting `pad_token_id` to `eos_token_id`:None for open-end generation.\n",
      "Processing Home and Garden:  36%|███▌      | 141/390 [07:08<10:05,  2.43s/it]Setting `pad_token_id` to `eos_token_id`:None for open-end generation.\n",
      "Processing Home and Garden:  36%|███▋      | 142/390 [07:12<11:57,  2.89s/it]Setting `pad_token_id` to `eos_token_id`:None for open-end generation.\n",
      "Processing Home and Garden:  37%|███▋      | 143/390 [07:16<13:12,  3.21s/it]Setting `pad_token_id` to `eos_token_id`:None for open-end generation.\n",
      "Processing Home and Garden:  37%|███▋      | 144/390 [07:16<09:36,  2.35s/it]Setting `pad_token_id` to `eos_token_id`:None for open-end generation.\n",
      "Processing Home and Garden:  37%|███▋      | 145/390 [07:20<11:33,  2.83s/it]Setting `pad_token_id` to `eos_token_id`:None for open-end generation.\n",
      "Processing Home and Garden:  37%|███▋      | 146/390 [07:22<10:05,  2.48s/it]Setting `pad_token_id` to `eos_token_id`:None for open-end generation.\n",
      "Processing Home and Garden:  38%|███▊      | 147/390 [07:24<08:59,  2.22s/it]Setting `pad_token_id` to `eos_token_id`:None for open-end generation.\n",
      "Processing Home and Garden:  38%|███▊      | 148/390 [07:28<11:04,  2.75s/it]Setting `pad_token_id` to `eos_token_id`:None for open-end generation.\n",
      "Processing Home and Garden:  38%|███▊      | 149/390 [07:32<12:27,  3.10s/it]Setting `pad_token_id` to `eos_token_id`:None for open-end generation.\n",
      "Processing Home and Garden:  38%|███▊      | 150/390 [07:35<13:26,  3.36s/it]Setting `pad_token_id` to `eos_token_id`:None for open-end generation.\n",
      "Processing Home and Garden:  39%|███▊      | 151/390 [07:39<14:01,  3.52s/it]Setting `pad_token_id` to `eos_token_id`:None for open-end generation.\n",
      "Processing Home and Garden:  39%|███▉      | 152/390 [07:43<14:26,  3.64s/it]Setting `pad_token_id` to `eos_token_id`:None for open-end generation.\n",
      "Processing Home and Garden:  39%|███▉      | 153/390 [07:47<14:41,  3.72s/it]Setting `pad_token_id` to `eos_token_id`:None for open-end generation.\n",
      "Processing Home and Garden:  39%|███▉      | 154/390 [07:49<12:50,  3.26s/it]Setting `pad_token_id` to `eos_token_id`:None for open-end generation.\n"
     ]
    }
   ],
   "source": [
    "results = benchmark.evaluate(model=llama3)\n",
    "print(\"Task-specific Scoress: \", benchmark.task_scores)\n",
    "print(\"Detailed Predictions: \", benchmark.predictions)\n",
    "print(benchmark.overall_score)"
   ]
  },
  {
   "cell_type": "code",
   "execution_count": 124,
   "id": "ab24c010-16a1-45c9-8ae7-e4148c01db09",
   "metadata": {},
   "outputs": [
    {
     "name": "stdout",
     "output_type": "stream",
     "text": [
      "<|begin_of_text|>The following are multiple choice questions (with answers) are sentence completion problems about Applying sunscreen.\n",
      "\n",
      "Then, the man writes over the snow covering the window of a car, and a woman wearing winter clothes smiles. then\n",
      "A., the man adds wax to the windshield and cuts it.\n",
      "B., a person board a ski lift, while two men supporting the head of the person wearing winter clothes snow as the we girls sled.\n",
      "C., the man puts on a christmas coat, knitted with netting.\n",
      "D., the man continues removing the snow on his car.\n",
      "Answer: D\n",
      "\n",
      "A female chef in white uniform shows a stack of baking pans in a large kitchen presenting them. the pans\n",
      "A. contain egg yolks and baking soda.\n",
      "B. are then sprinkled with brown sugar.\n",
      "C. are placed in a strainer on the counter.\n",
      "D. are filled with pastries and loaded into the oven.\n",
      "Answer: D\n",
      "\n",
      "The man in the center is demonstrating a hairstyle on the person wearing the blue shirt. the man in the blue shirt\n",
      "A. is standing on the sponge cutting the hair of the person wearing the blue shirt.\n",
      "B. is doing the hairstyle with his hand and the hairspray.\n",
      "C. sits on the chair next to the sink.\n",
      "D. is being shown eye to eye.\n",
      "Answer: C\n",
      "\n",
      "Two bodybuilder women are seated at a table. they\n",
      "A. are talking about diving techniques, bribing each other with muscle' n strength.\n",
      "B. are working out on exercise bikes.\n",
      "C. are arm wrestling, vieing to win.\n",
      "D. are shown on parallel bars.\n",
      "Answer: C\n",
      "\n",
      "This is a tutorial on how to start a campfire. it\n",
      "A. shows how to light the fire by rubbing a lid on it.\n",
      "B. is supposed to be a fire log, but your dad said that he might have burned it, and that if he catches fire it will hurt him.\n",
      "C. shows the campfire burning on the ground.\n",
      "D. is a green and red sweet and the recipe is to make it hot and then puts it in a pan to simmer.\n",
      "Answer: C\n",
      "\n",
      "A woman puts some lotion on her hand. She rubs the lotion onto her face. a cartoon demonstration\n",
      "A. is shown with a curling brush.\n",
      "B. is then shown of a woman crying.\n",
      "C. is shown on the screen.\n",
      "D. of a cat is shown.\n",
      "Answer:\n",
      "\n",
      "Output 'A', 'B', 'C', or 'D'. Full answer not needed.<|end_of_text|>\n"
     ]
    }
   ],
   "source": [
    "print(benchmark.predictions['Prediction'].iloc[1])"
   ]
  }
 ],
 "metadata": {
  "kernelspec": {
   "display_name": "Python 3 (ipykernel)",
   "language": "python",
   "name": "python3"
  },
  "language_info": {
   "codemirror_mode": {
    "name": "ipython",
    "version": 3
   },
   "file_extension": ".py",
   "mimetype": "text/x-python",
   "name": "python",
   "nbconvert_exporter": "python",
   "pygments_lexer": "ipython3",
   "version": "3.10.12"
  }
 },
 "nbformat": 4,
 "nbformat_minor": 5
}
