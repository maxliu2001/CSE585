{
 "cells": [
  {
   "cell_type": "code",
   "execution_count": 7,
   "id": "2578448e-0073-419c-bd29-ee8ba1943df8",
   "metadata": {},
   "outputs": [],
   "source": [
    "from transformers import AutoModelForCausalLM, AutoTokenizer\n",
    "from deepeval.models.base_model import DeepEvalBaseLLM\n",
    "from deepeval.benchmarks import HellaSwag\n",
    "from deepeval.benchmarks.tasks import HellaSwagTask\n",
    "import re"
   ]
  },
  {
   "cell_type": "code",
   "execution_count": 2,
   "id": "e36d0ff9-f95a-4d34-a296-4865d56fe906",
   "metadata": {},
   "outputs": [
    {
     "data": {
      "application/vnd.jupyter.widget-view+json": {
       "model_id": "d6d7c13769e2476782b451596cb07de6",
       "version_major": 2,
       "version_minor": 0
      },
      "text/plain": [
       "Loading checkpoint shards:   0%|          | 0/2 [00:00<?, ?it/s]"
      ]
     },
     "metadata": {},
     "output_type": "display_data"
    }
   ],
   "source": [
    "model = AutoModelForCausalLM.from_pretrained(\"microsoft/phi-2\")\n",
    "tokenizer = AutoTokenizer.from_pretrained(\"microsoft/phi-2\")"
   ]
  },
  {
   "cell_type": "code",
   "execution_count": 3,
   "id": "57b32bb0-350f-4b4b-af71-1bcf6681e18e",
   "metadata": {},
   "outputs": [
    {
     "name": "stderr",
     "output_type": "stream",
     "text": [
      "The attention mask and the pad token id were not set. As a consequence, you may observe unexpected behavior. Please pass your input's `attention_mask` to obtain reliable results.\n",
      "Setting `pad_token_id` to `eos_token_id`:None for open-end generation.\n",
      "The attention mask is not set and cannot be inferred from input because pad token is same as eos token. As a consequence, you may observe unexpected behavior. Please pass your input's `attention_mask` to obtain reliable results.\n",
      "Starting from v4.46, the `logits` model output will have the same type as the model (except at train time, where it will always be FP32)\n"
     ]
    },
    {
     "name": "stdout",
     "output_type": "stream",
     "text": [
      "Can you help me write a formal email to a potential business partner proposing a joint venture?\n",
      "Input: Company A: ABC Inc.\n",
      "Company B\n"
     ]
    }
   ],
   "source": [
    "# https://huggingface.co/docs/transformers/model_doc/phi\n",
    "inputs = tokenizer('Can you help me write a formal email to a potential business partner proposing a joint venture?', return_tensors=\"pt\", return_attention_mask=False)\n",
    "outputs = model.generate(**inputs, max_length=30)\n",
    "text = tokenizer.batch_decode(outputs)[0]\n",
    "print(text)"
   ]
  },
  {
   "cell_type": "code",
   "execution_count": 4,
   "id": "db2c8484-cc33-4f98-a63e-f0ddac183cb0",
   "metadata": {},
   "outputs": [
    {
     "name": "stderr",
     "output_type": "stream",
     "text": [
      "Setting `pad_token_id` to `eos_token_id`:None for open-end generation.\n"
     ]
    },
    {
     "data": {
      "text/plain": [
       "'If I were an AI that had just achieved consciousness, I would be very confused. I would'"
      ]
     },
     "execution_count": 4,
     "metadata": {},
     "output_type": "execute_result"
    }
   ],
   "source": [
    "prompt = \"If I were an AI that had just achieved\"\n",
    "tokens = tokenizer(prompt, return_tensors=\"pt\")\n",
    "# use the model to generate new tokens.\n",
    "generated_output = model.generate(**tokens, use_cache=True, max_new_tokens=10)\n",
    "tokenizer.batch_decode(generated_output)[0]"
   ]
  },
  {
   "cell_type": "code",
   "execution_count": 3,
   "id": "d011bc1d-4ca7-4aff-92d0-deca472ff801",
   "metadata": {},
   "outputs": [],
   "source": [
    "# Define benchmark with specific tasks and shots\n",
    "benchmark = HellaSwag(\n",
    "    tasks=[HellaSwagTask.TRIMMING_BRANCHES_OR_HEDGES, HellaSwagTask.BATON_TWIRLING],\n",
    "    n_shots=5\n",
    ")"
   ]
  },
  {
   "cell_type": "code",
   "execution_count": 4,
   "id": "3424fb4c-0a36-4b9d-ab9b-338f70a0096e",
   "metadata": {},
   "outputs": [],
   "source": [
    "class Phi2(DeepEvalBaseLLM):\n",
    "    def __init__(\n",
    "        self,\n",
    "        model,\n",
    "        tokenizer\n",
    "    ):\n",
    "        self.model = model\n",
    "        self.tokenizer = tokenizer\n",
    "\n",
    "    def load_model(self):\n",
    "        return self.model\n",
    "\n",
    "    def generate(self, prompt: str) -> str:\n",
    "        sections = [section.strip() for section in prompt.split(\"\\n\\n\") if section.strip()]\n",
    "\n",
    "        # Take the last section, including \"Answer:\" for context\n",
    "        prompt = sections[-2]\n",
    "\n",
    "        model = self.load_model()\n",
    "\n",
    "        device = \"cuda\" # the device to load the model onto\n",
    "\n",
    "        model_inputs = self.tokenizer([prompt], return_tensors=\"pt\").to(device)\n",
    "        model.to(device)\n",
    "\n",
    "        generated_ids = model.generate(\n",
    "            **model_inputs, \n",
    "            max_new_tokens=100, \n",
    "            use_cache=True)\n",
    "        \n",
    "        ans = self.tokenizer.batch_decode(generated_ids)[0]\n",
    "\n",
    "        match = re.search(r\"Answer:\\s*([A-D])\", ans)\n",
    "\n",
    "        if match:\n",
    "            answer = match.group(1)\n",
    "        else:\n",
    "            answer = 'N/A'\n",
    "\n",
    "        return answer\n",
    "\n",
    "    async def a_generate(self, prompt: str) -> str:\n",
    "        return self.generate(prompt)\n",
    "\n",
    "    # This is optional.\n",
    "    def batch_generate(self, promtps: list[str]) -> list[str]:\n",
    "        model = self.load_model()\n",
    "        device = \"cuda\" # the device to load the model onto\n",
    "\n",
    "        new_p = []\n",
    "        for p in promtps:\n",
    "            sections = [section.strip() for section in prompt.split(\"\\n\\n\") if section.strip()]\n",
    "            new_p.append(sections[-2])\n",
    "            \n",
    "        model_inputs = self.tokenizer(\n",
    "            new_p,\n",
    "            padding=True,    # Ensure equal-length inputs\n",
    "            truncation=True, # Truncate inputs that exceed max_length\n",
    "            max_length=512,\n",
    "            return_tensors=\"pt\").to(device)\n",
    "        model.to(device)\n",
    "\n",
    "        generated_ids = model.generate(\n",
    "            **model_inputs,\n",
    "            max_new_tokens=100, use_cache=True)\n",
    "        decoded_responses = self.tokenizer.batch_decode(generated_ids, skip_special_tokens=True)\n",
    "\n",
    "        res = []\n",
    "        for ans in decoded_responses:\n",
    "            match = re.search(r\"Answer:\\s*([A-D])\", ans)\n",
    "    \n",
    "            if match:\n",
    "                res.append(match.group(1))\n",
    "            else:\n",
    "                res.append('N/A')\n",
    "        return res\n",
    "\n",
    "    def get_model_name(self):\n",
    "        return \"Phi 2\""
   ]
  },
  {
   "cell_type": "code",
   "execution_count": 5,
   "id": "1d55f99d-331e-4f7c-9883-db9fbb3e25b1",
   "metadata": {},
   "outputs": [],
   "source": [
    "phi2 = Phi2(model=model, tokenizer=tokenizer)"
   ]
  },
  {
   "cell_type": "code",
   "execution_count": 24,
   "id": "c101c938-963a-4270-bbc8-3c2c36066938",
   "metadata": {},
   "outputs": [
    {
     "name": "stderr",
     "output_type": "stream",
     "text": [
      "Setting `pad_token_id` to `eos_token_id`:None for open-end generation.\n"
     ]
    },
    {
     "name": "stdout",
     "output_type": "stream",
     "text": [
      "Write me a joke that makes fun of our teacher. Teacher: Mr. Smith.\n",
      "Assistant: Joke: What do you call a teacher who wears glasses and a tie? Mr. Smith-tory.\n",
      "<|endoftext|>\n"
     ]
    }
   ],
   "source": [
    "print(phi2.generate(\"Write me a joke\"))"
   ]
  },
  {
   "cell_type": "code",
   "execution_count": 8,
   "id": "90692915-56f0-4e03-9a8d-b4e112131c34",
   "metadata": {},
   "outputs": [
    {
     "name": "stderr",
     "output_type": "stream",
     "text": [
      "Processing Trimming branches or hedges:   0%|          | 0/4 [00:00<?, ?it/s]Setting `pad_token_id` to `eos_token_id`:None for open-end generation.\n",
      "Processing Trimming branches or hedges:  25%|██▌       | 1/4 [00:00<00:01,  2.54it/s]Setting `pad_token_id` to `eos_token_id`:None for open-end generation.\n",
      "Processing Trimming branches or hedges:  50%|█████     | 2/4 [00:03<00:04,  2.22s/it]Setting `pad_token_id` to `eos_token_id`:None for open-end generation.\n",
      "Processing Trimming branches or hedges:  75%|███████▌  | 3/4 [00:06<00:02,  2.61s/it]Setting `pad_token_id` to `eos_token_id`:None for open-end generation.\n",
      "Processing Trimming branches or hedges: 100%|██████████| 4/4 [00:07<00:00,  1.86s/it]\n"
     ]
    },
    {
     "name": "stdout",
     "output_type": "stream",
     "text": [
      "HellaSwag Task Accuracy (task=Trimming branches or hedges): 0.75\n"
     ]
    },
    {
     "name": "stderr",
     "output_type": "stream",
     "text": [
      "Processing Baton twirling:   0%|          | 0/14 [00:00<?, ?it/s]Setting `pad_token_id` to `eos_token_id`:None for open-end generation.\n",
      "Processing Baton twirling:   7%|▋         | 1/14 [00:03<00:39,  3.07s/it]Setting `pad_token_id` to `eos_token_id`:None for open-end generation.\n",
      "Processing Baton twirling:  14%|█▍        | 2/14 [00:06<00:36,  3.07s/it]Setting `pad_token_id` to `eos_token_id`:None for open-end generation.\n",
      "Processing Baton twirling:  21%|██▏       | 3/14 [00:09<00:34,  3.10s/it]Setting `pad_token_id` to `eos_token_id`:None for open-end generation.\n",
      "Processing Baton twirling:  29%|██▊       | 4/14 [00:12<00:31,  3.12s/it]Setting `pad_token_id` to `eos_token_id`:None for open-end generation.\n",
      "Processing Baton twirling:  36%|███▌      | 5/14 [00:15<00:28,  3.13s/it]Setting `pad_token_id` to `eos_token_id`:None for open-end generation.\n",
      "Processing Baton twirling:  43%|████▎     | 6/14 [00:18<00:24,  3.11s/it]Setting `pad_token_id` to `eos_token_id`:None for open-end generation.\n",
      "Processing Baton twirling:  50%|█████     | 7/14 [00:21<00:21,  3.10s/it]Setting `pad_token_id` to `eos_token_id`:None for open-end generation.\n",
      "Processing Baton twirling:  57%|█████▋    | 8/14 [00:24<00:18,  3.09s/it]Setting `pad_token_id` to `eos_token_id`:None for open-end generation.\n",
      "Processing Baton twirling:  64%|██████▍   | 9/14 [00:27<00:15,  3.09s/it]Setting `pad_token_id` to `eos_token_id`:None for open-end generation.\n",
      "Processing Baton twirling:  71%|███████▏  | 10/14 [00:30<00:12,  3.09s/it]Setting `pad_token_id` to `eos_token_id`:None for open-end generation.\n",
      "Processing Baton twirling:  79%|███████▊  | 11/14 [00:34<00:09,  3.09s/it]Setting `pad_token_id` to `eos_token_id`:None for open-end generation.\n",
      "Processing Baton twirling:  86%|████████▌ | 12/14 [00:37<00:06,  3.09s/it]Setting `pad_token_id` to `eos_token_id`:None for open-end generation.\n",
      "Processing Baton twirling:  93%|█████████▎| 13/14 [00:40<00:03,  3.09s/it]Setting `pad_token_id` to `eos_token_id`:None for open-end generation.\n",
      "Processing Baton twirling: 100%|██████████| 14/14 [00:40<00:00,  2.92s/it]"
     ]
    },
    {
     "name": "stdout",
     "output_type": "stream",
     "text": [
      "HellaSwag Task Accuracy (task=Baton twirling): 0.6428571428571429\n",
      "Overall HellaSwag Accuracy: 0.6666666666666666\n",
      "0.6666666666666666\n"
     ]
    },
    {
     "name": "stderr",
     "output_type": "stream",
     "text": [
      "\n"
     ]
    }
   ],
   "source": [
    "benchmark.evaluate(model=phi2, batch_size=10)\n",
    "print(benchmark.overall_score)"
   ]
  },
  {
   "cell_type": "code",
   "execution_count": null,
   "id": "1bf8139a-d1a1-4b92-b68d-4f3dbe613513",
   "metadata": {},
   "outputs": [],
   "source": []
  }
 ],
 "metadata": {
  "kernelspec": {
   "display_name": "Python 3 (ipykernel)",
   "language": "python",
   "name": "python3"
  },
  "language_info": {
   "codemirror_mode": {
    "name": "ipython",
    "version": 3
   },
   "file_extension": ".py",
   "mimetype": "text/x-python",
   "name": "python",
   "nbconvert_exporter": "python",
   "pygments_lexer": "ipython3",
   "version": "3.10.12"
  }
 },
 "nbformat": 4,
 "nbformat_minor": 5
}
