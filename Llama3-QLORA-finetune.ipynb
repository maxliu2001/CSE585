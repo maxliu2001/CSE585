{
 "cells": [
  {
   "cell_type": "code",
   "execution_count": 1,
   "id": "14e575ab-cf73-4817-b2ed-d49f4895cf58",
   "metadata": {},
   "outputs": [],
   "source": [
    "from datasets import load_dataset\n",
    "ds = load_dataset(\"garage-bAInd/Open-Platypus\", split='train')"
   ]
  },
  {
   "cell_type": "code",
   "execution_count": 2,
   "id": "839b1c07-2369-40ed-97b9-a5a961e32e0d",
   "metadata": {},
   "outputs": [
    {
     "name": "stdout",
     "output_type": "stream",
     "text": [
      "\n",
      "\u001b[1m[\u001b[0m\u001b[34;49mnotice\u001b[0m\u001b[1;39;49m]\u001b[0m\u001b[39;49m A new release of pip is available: \u001b[0m\u001b[31;49m23.0.1\u001b[0m\u001b[39;49m -> \u001b[0m\u001b[32;49m24.3.1\u001b[0m\n",
      "\u001b[1m[\u001b[0m\u001b[34;49mnotice\u001b[0m\u001b[1;39;49m]\u001b[0m\u001b[39;49m To update, run: \u001b[0m\u001b[32;49mpip install --upgrade pip\u001b[0m\n",
      "\n",
      "\u001b[1m[\u001b[0m\u001b[34;49mnotice\u001b[0m\u001b[1;39;49m]\u001b[0m\u001b[39;49m A new release of pip is available: \u001b[0m\u001b[31;49m23.0.1\u001b[0m\u001b[39;49m -> \u001b[0m\u001b[32;49m24.3.1\u001b[0m\n",
      "\u001b[1m[\u001b[0m\u001b[34;49mnotice\u001b[0m\u001b[1;39;49m]\u001b[0m\u001b[39;49m To update, run: \u001b[0m\u001b[32;49mpip install --upgrade pip\u001b[0m\n",
      "\n",
      "\u001b[1m[\u001b[0m\u001b[34;49mnotice\u001b[0m\u001b[1;39;49m]\u001b[0m\u001b[39;49m A new release of pip is available: \u001b[0m\u001b[31;49m23.0.1\u001b[0m\u001b[39;49m -> \u001b[0m\u001b[32;49m24.3.1\u001b[0m\n",
      "\u001b[1m[\u001b[0m\u001b[34;49mnotice\u001b[0m\u001b[1;39;49m]\u001b[0m\u001b[39;49m To update, run: \u001b[0m\u001b[32;49mpip install --upgrade pip\u001b[0m\n",
      "\n",
      "\u001b[1m[\u001b[0m\u001b[34;49mnotice\u001b[0m\u001b[1;39;49m]\u001b[0m\u001b[39;49m A new release of pip is available: \u001b[0m\u001b[31;49m23.0.1\u001b[0m\u001b[39;49m -> \u001b[0m\u001b[32;49m24.3.1\u001b[0m\n",
      "\u001b[1m[\u001b[0m\u001b[34;49mnotice\u001b[0m\u001b[1;39;49m]\u001b[0m\u001b[39;49m To update, run: \u001b[0m\u001b[32;49mpip install --upgrade pip\u001b[0m\n",
      "\n",
      "\u001b[1m[\u001b[0m\u001b[34;49mnotice\u001b[0m\u001b[1;39;49m]\u001b[0m\u001b[39;49m A new release of pip is available: \u001b[0m\u001b[31;49m23.0.1\u001b[0m\u001b[39;49m -> \u001b[0m\u001b[32;49m24.3.1\u001b[0m\n",
      "\u001b[1m[\u001b[0m\u001b[34;49mnotice\u001b[0m\u001b[1;39;49m]\u001b[0m\u001b[39;49m To update, run: \u001b[0m\u001b[32;49mpip install --upgrade pip\u001b[0m\n"
     ]
    }
   ],
   "source": [
    "!pip install -q -U bitsandbytes\n",
    "!pip install -q -U git+https://github.com/huggingface/transformers.git\n",
    "!pip install -q -U git+https://github.com/huggingface/peft.git\n",
    "!pip install -q -U git+https://github.com/huggingface/accelerate.git\n",
    "!pip install -q -U datasets scipy ipywidgets matplotlib einops"
   ]
  },
  {
   "cell_type": "code",
   "execution_count": 3,
   "id": "c877fe79-0f71-4b94-b09b-770f9c4b6811",
   "metadata": {},
   "outputs": [
    {
     "name": "stdout",
     "output_type": "stream",
     "text": [
      "Training set size: 19940\n",
      "Validation set size: 4986\n"
     ]
    }
   ],
   "source": [
    "train_val_split = ds.train_test_split(test_size=0.2)\n",
    "\n",
    "# Extract the training and validation datasets\n",
    "train_dataset = train_val_split['train']\n",
    "val_dataset = train_val_split['test']\n",
    "\n",
    "# Print the size of the datasets\n",
    "print(f\"Training set size: {len(train_dataset)}\")\n",
    "print(f\"Validation set size: {len(val_dataset)}\")"
   ]
  },
  {
   "cell_type": "code",
   "execution_count": 4,
   "id": "f39ec1a0-c645-4844-a90a-63ca75390652",
   "metadata": {},
   "outputs": [],
   "source": [
    "def formatting_func(example):\n",
    "    text = f\"### Question: {example['instruction']}\\n ### Answer: {example['output']}\"\n",
    "    return text"
   ]
  },
  {
   "cell_type": "code",
   "execution_count": 5,
   "id": "072d7438-2463-45d0-a966-88164372d95f",
   "metadata": {},
   "outputs": [
    {
     "name": "stdout",
     "output_type": "stream",
     "text": [
      "### Question: A board game spinner is divided into three parts labeled $A$, $B$  and $C$. The probability of the spinner landing on $A$ is $\\frac{1}{3}$ and the probability of the spinner landing on $B$ is $\\frac{5}{12}$.  What is the probability of the spinner landing on $C$? Express your answer as a common fraction.\n",
      " ### Answer: To find the probability of the spinner landing on $C$, I need to subtract the probabilities of the spinner landing on $A$ and $B$ from $1$, since the sum of the probabilities of all possible outcomes is $1$. I can write this as an equation: $P(C) = 1 - P(A) - P(B)$. I know that $P(A) = \\frac{1}{3}$ and $P(B) = \\frac{5}{12}$, so I can plug those values into the equation and simplify. I get: $P(C) = 1 - \\frac{1}{3} - \\frac{5}{12} = \\frac{12}{12} - \\frac{4}{12} - \\frac{5}{12} = \\frac{3}{12}$. I can reduce this fraction by dividing the numerator and denominator by $3$, and I get: $P(C) = \\frac{1}{4}$. \n"
     ]
    }
   ],
   "source": [
    "print(formatting_func(ds[0]))"
   ]
  },
  {
   "cell_type": "code",
   "execution_count": 6,
   "id": "8f66eacb-57ac-491f-9a92-781df1cbea1a",
   "metadata": {},
   "outputs": [],
   "source": [
    "import torch\n",
    "from transformers import AutoTokenizer, AutoModelForCausalLM, BitsAndBytesConfig, TrainingArguments, DataCollatorForLanguageModeling\n",
    "from peft import LoraConfig, get_peft_model"
   ]
  },
  {
   "cell_type": "code",
   "execution_count": 7,
   "id": "b2d925a1-826b-4770-b927-6d5d2959c0ec",
   "metadata": {},
   "outputs": [
    {
     "data": {
      "application/vnd.jupyter.widget-view+json": {
       "model_id": "4603c0ffcf0a427e9cda5988bf6d7b1c",
       "version_major": 2,
       "version_minor": 0
      },
      "text/plain": [
       "Loading checkpoint shards:   0%|          | 0/4 [00:00<?, ?it/s]"
      ]
     },
     "metadata": {},
     "output_type": "display_data"
    }
   ],
   "source": [
    "base_model_id = \"meta-llama/Llama-3.1-8B\"\n",
    "bnb_config = BitsAndBytesConfig(\n",
    "    load_in_4bit=True,\n",
    "    bnb_4bit_use_double_quant=True,\n",
    "    bnb_4bit_quant_type=\"nf4\",\n",
    "    bnb_4bit_compute_dtype=torch.bfloat16\n",
    ")\n",
    "\n",
    "model = AutoModelForCausalLM.from_pretrained(base_model_id, quantization_config=bnb_config, device_map=\"auto\")"
   ]
  },
  {
   "cell_type": "code",
   "execution_count": 64,
   "id": "23e7b922-4247-4a61-9884-9131c6acfb00",
   "metadata": {},
   "outputs": [],
   "source": [
    "tokenizer = AutoTokenizer.from_pretrained(\n",
    "    base_model_id,\n",
    "    padding_side=\"left\",\n",
    "    add_eos_token=True,\n",
    "    add_bos_token=True,\n",
    "    use_fast=False, # needed for now, should be fixed soon\n",
    ")\n",
    "tokenizer.pad_token = tokenizer.eos_token"
   ]
  },
  {
   "cell_type": "code",
   "execution_count": 65,
   "id": "67a62421-7e3e-43df-8f06-e1c895644579",
   "metadata": {},
   "outputs": [],
   "source": [
    "max_length = 2048 # This was an appropriate max length for my dataset\n",
    "\n",
    "def generate_and_tokenize_prompt2(prompt):\n",
    "    result = tokenizer(\n",
    "        formatting_func(prompt),\n",
    "        truncation=True,\n",
    "        max_length=max_length,\n",
    "        padding=\"max_length\",\n",
    "    )\n",
    "    result[\"labels\"] = result[\"input_ids\"].copy()\n",
    "    return result"
   ]
  },
  {
   "cell_type": "code",
   "execution_count": 66,
   "id": "8538973d-1c01-48ce-93fe-fb071b0f52be",
   "metadata": {},
   "outputs": [
    {
     "data": {
      "application/vnd.jupyter.widget-view+json": {
       "model_id": "0ac48d56f72b4905a5ad18befca84b8b",
       "version_major": 2,
       "version_minor": 0
      },
      "text/plain": [
       "Map:   0%|          | 0/19940 [00:00<?, ? examples/s]"
      ]
     },
     "metadata": {},
     "output_type": "display_data"
    },
    {
     "data": {
      "application/vnd.jupyter.widget-view+json": {
       "model_id": "4e7335e6f67040079f51f3992989ecc3",
       "version_major": 2,
       "version_minor": 0
      },
      "text/plain": [
       "Map:   0%|          | 0/4986 [00:00<?, ? examples/s]"
      ]
     },
     "metadata": {},
     "output_type": "display_data"
    }
   ],
   "source": [
    "tokenized_train_dataset = train_dataset.map(generate_and_tokenize_prompt2)\n",
    "tokenized_val_dataset = val_dataset.map(generate_and_tokenize_prompt2)"
   ]
  },
  {
   "cell_type": "code",
   "execution_count": 67,
   "id": "b9c5e8e7-4327-4995-93ad-03e47665f838",
   "metadata": {},
   "outputs": [
    {
     "name": "stdout",
     "output_type": "stream",
     "text": [
      "24926\n"
     ]
    },
    {
     "data": {
      "image/png": "[encoded data removed]",
      "text/plain": [
       "<Figure size 1000x600 with 1 Axes>"
      ]
     },
     "metadata": {},
     "output_type": "display_data"
    }
   ],
   "source": [
    "import matplotlib.pyplot as plt\n",
    "\n",
    "def plot_data_lengths(tokenized_train_dataset, tokenized_val_dataset):\n",
    "    lengths = [len(x['input_ids']) for x in tokenized_train_dataset]\n",
    "    lengths += [len(x['input_ids']) for x in tokenized_val_dataset]\n",
    "    print(len(lengths))\n",
    "\n",
    "    # Plotting the histogram\n",
    "    plt.figure(figsize=(10, 6))\n",
    "    plt.hist(lengths, bins=20, alpha=0.7, color='blue')\n",
    "    plt.xlabel('Length of input_ids')\n",
    "    plt.ylabel('Frequency')\n",
    "    plt.title('Distribution of Lengths of input_ids')\n",
    "    plt.show()\n",
    "\n",
    "plot_data_lengths(tokenized_train_dataset, tokenized_val_dataset)"
   ]
  },
  {
   "cell_type": "code",
   "execution_count": 27,
   "id": "ad649024-998b-405c-b217-5bcb21ceb56e",
   "metadata": {},
   "outputs": [],
   "source": [
    "from peft import prepare_model_for_kbit_training\n",
    "\n",
    "model.gradient_checkpointing_enable()\n",
    "model = prepare_model_for_kbit_training(model)"
   ]
  },
  {
   "cell_type": "code",
   "execution_count": 28,
   "id": "91dbd52b-2f0e-48db-99ba-b9b2a560d422",
   "metadata": {},
   "outputs": [],
   "source": [
    "def print_trainable_parameters(model):\n",
    "    \"\"\"\n",
    "    Prints the number of trainable parameters in the model.\n",
    "    \"\"\"\n",
    "    trainable_params = 0\n",
    "    all_param = 0\n",
    "    for _, param in model.named_parameters():\n",
    "        all_param += param.numel()\n",
    "        if param.requires_grad:\n",
    "            trainable_params += param.numel()\n",
    "    print(\n",
    "        f\"trainable params: {trainable_params} || all params: {all_param} || trainable%: {100 * trainable_params / all_param}\"\n",
    "    )"
   ]
  },
  {
   "cell_type": "code",
   "execution_count": 29,
   "id": "87df72ae-24fc-45e9-91af-9d4e51cfb626",
   "metadata": {},
   "outputs": [
    {
     "name": "stdout",
     "output_type": "stream",
     "text": [
      "LlamaForCausalLM(\n",
      "  (model): LlamaModel(\n",
      "    (embed_tokens): Embedding(128256, 4096)\n",
      "    (layers): ModuleList(\n",
      "      (0-31): 32 x LlamaDecoderLayer(\n",
      "        (self_attn): LlamaSdpaAttention(\n",
      "          (q_proj): Linear4bit(in_features=4096, out_features=4096, bias=False)\n",
      "          (k_proj): Linear4bit(in_features=4096, out_features=1024, bias=False)\n",
      "          (v_proj): Linear4bit(in_features=4096, out_features=1024, bias=False)\n",
      "          (o_proj): Linear4bit(in_features=4096, out_features=4096, bias=False)\n",
      "          (rotary_emb): LlamaRotaryEmbedding()\n",
      "        )\n",
      "        (mlp): LlamaMLP(\n",
      "          (gate_proj): Linear4bit(in_features=4096, out_features=14336, bias=False)\n",
      "          (up_proj): Linear4bit(in_features=4096, out_features=14336, bias=False)\n",
      "          (down_proj): Linear4bit(in_features=14336, out_features=4096, bias=False)\n",
      "          (act_fn): SiLU()\n",
      "        )\n",
      "        (input_layernorm): LlamaRMSNorm((4096,), eps=1e-05)\n",
      "        (post_attention_layernorm): LlamaRMSNorm((4096,), eps=1e-05)\n",
      "      )\n",
      "    )\n",
      "    (norm): LlamaRMSNorm((4096,), eps=1e-05)\n",
      "    (rotary_emb): LlamaRotaryEmbedding()\n",
      "  )\n",
      "  (lm_head): Linear(in_features=4096, out_features=128256, bias=False)\n",
      ")\n"
     ]
    }
   ],
   "source": [
    "print(model)"
   ]
  },
  {
   "cell_type": "code",
   "execution_count": 35,
   "id": "db5c1f97-a255-4d68-adb0-498b8f55040a",
   "metadata": {},
   "outputs": [
    {
     "name": "stderr",
     "output_type": "stream",
     "text": [
      "huggingface/tokenizers: The current process just got forked, after parallelism has already been used. Disabling parallelism to avoid deadlocks...\n",
      "To disable this warning, you can either:\n",
      "\t- Avoid using `tokenizers` before the fork if possible\n",
      "\t- Explicitly set the environment variable TOKENIZERS_PARALLELISM=(true | false)\n"
     ]
    },
    {
     "name": "stdout",
     "output_type": "stream",
     "text": [
      "Requirement already satisfied: accelerate in /home/ubuntu/.pyenv/versions/3.10.14/lib/python3.10/site-packages (1.2.0.dev0)\n",
      "Requirement already satisfied: huggingface_hub>=0.21.0 in /home/ubuntu/.pyenv/versions/3.10.14/lib/python3.10/site-packages (from accelerate) (0.26.3)\n",
      "Requirement already satisfied: packaging>=20.0 in /home/ubuntu/.pyenv/versions/3.10.14/lib/python3.10/site-packages (from accelerate) (24.1)\n",
      "Requirement already satisfied: pyyaml in /home/ubuntu/.pyenv/versions/3.10.14/lib/python3.10/site-packages (from accelerate) (6.0.2)\n",
      "Requirement already satisfied: numpy<3.0.0,>=1.17 in /home/ubuntu/.pyenv/versions/3.10.14/lib/python3.10/site-packages (from accelerate) (2.1.3)\n",
      "Requirement already satisfied: psutil in /home/ubuntu/.pyenv/versions/3.10.14/lib/python3.10/site-packages (from accelerate) (6.0.0)\n",
      "Requirement already satisfied: torch>=1.10.0 in /home/ubuntu/.pyenv/versions/3.10.14/lib/python3.10/site-packages (from accelerate) (2.5.1)\n",
      "Requirement already satisfied: safetensors>=0.4.3 in /home/ubuntu/.pyenv/versions/3.10.14/lib/python3.10/site-packages (from accelerate) (0.4.5)\n",
      "Requirement already satisfied: typing-extensions>=3.7.4.3 in /home/ubuntu/.pyenv/versions/3.10.14/lib/python3.10/site-packages (from huggingface_hub>=0.21.0->accelerate) (4.12.2)\n",
      "Requirement already satisfied: filelock in /home/ubuntu/.pyenv/versions/3.10.14/lib/python3.10/site-packages (from huggingface_hub>=0.21.0->accelerate) (3.16.1)\n",
      "Requirement already satisfied: tqdm>=4.42.1 in /home/ubuntu/.pyenv/versions/3.10.14/lib/python3.10/site-packages (from huggingface_hub>=0.21.0->accelerate) (4.67.1)\n",
      "Requirement already satisfied: fsspec>=2023.5.0 in /home/ubuntu/.pyenv/versions/3.10.14/lib/python3.10/site-packages (from huggingface_hub>=0.21.0->accelerate) (2024.9.0)\n",
      "Requirement already satisfied: requests in /home/ubuntu/.pyenv/versions/3.10.14/lib/python3.10/site-packages (from huggingface_hub>=0.21.0->accelerate) (2.32.3)\n",
      "Requirement already satisfied: nvidia-cusolver-cu12==11.6.1.9 in /home/ubuntu/.pyenv/versions/3.10.14/lib/python3.10/site-packages (from torch>=1.10.0->accelerate) (11.6.1.9)\n",
      "Requirement already satisfied: nvidia-cusparse-cu12==12.3.1.170 in /home/ubuntu/.pyenv/versions/3.10.14/lib/python3.10/site-packages (from torch>=1.10.0->accelerate) (12.3.1.170)\n",
      "Requirement already satisfied: nvidia-nccl-cu12==2.21.5 in /home/ubuntu/.pyenv/versions/3.10.14/lib/python3.10/site-packages (from torch>=1.10.0->accelerate) (2.21.5)\n",
      "Requirement already satisfied: nvidia-cublas-cu12==12.4.5.8 in /home/ubuntu/.pyenv/versions/3.10.14/lib/python3.10/site-packages (from torch>=1.10.0->accelerate) (12.4.5.8)\n",
      "Requirement already satisfied: nvidia-cudnn-cu12==9.1.0.70 in /home/ubuntu/.pyenv/versions/3.10.14/lib/python3.10/site-packages (from torch>=1.10.0->accelerate) (9.1.0.70)\n",
      "Requirement already satisfied: networkx in /home/ubuntu/.pyenv/versions/3.10.14/lib/python3.10/site-packages (from torch>=1.10.0->accelerate) (3.4.2)\n",
      "Requirement already satisfied: jinja2 in /home/ubuntu/.pyenv/versions/3.10.14/lib/python3.10/site-packages (from torch>=1.10.0->accelerate) (3.1.4)\n",
      "Requirement already satisfied: nvidia-cufft-cu12==11.2.1.3 in /home/ubuntu/.pyenv/versions/3.10.14/lib/python3.10/site-packages (from torch>=1.10.0->accelerate) (11.2.1.3)\n",
      "Requirement already satisfied: nvidia-nvtx-cu12==12.4.127 in /home/ubuntu/.pyenv/versions/3.10.14/lib/python3.10/site-packages (from torch>=1.10.0->accelerate) (12.4.127)\n",
      "Requirement already satisfied: nvidia-nvjitlink-cu12==12.4.127 in /home/ubuntu/.pyenv/versions/3.10.14/lib/python3.10/site-packages (from torch>=1.10.0->accelerate) (12.4.127)\n",
      "Requirement already satisfied: nvidia-curand-cu12==10.3.5.147 in /home/ubuntu/.pyenv/versions/3.10.14/lib/python3.10/site-packages (from torch>=1.10.0->accelerate) (10.3.5.147)\n",
      "Requirement already satisfied: nvidia-cuda-runtime-cu12==12.4.127 in /home/ubuntu/.pyenv/versions/3.10.14/lib/python3.10/site-packages (from torch>=1.10.0->accelerate) (12.4.127)\n",
      "Requirement already satisfied: nvidia-cuda-cupti-cu12==12.4.127 in /home/ubuntu/.pyenv/versions/3.10.14/lib/python3.10/site-packages (from torch>=1.10.0->accelerate) (12.4.127)\n",
      "Requirement already satisfied: triton==3.1.0 in /home/ubuntu/.pyenv/versions/3.10.14/lib/python3.10/site-packages (from torch>=1.10.0->accelerate) (3.1.0)\n",
      "Requirement already satisfied: nvidia-cuda-nvrtc-cu12==12.4.127 in /home/ubuntu/.pyenv/versions/3.10.14/lib/python3.10/site-packages (from torch>=1.10.0->accelerate) (12.4.127)\n",
      "Requirement already satisfied: sympy==1.13.1 in /home/ubuntu/.pyenv/versions/3.10.14/lib/python3.10/site-packages (from torch>=1.10.0->accelerate) (1.13.1)\n",
      "Requirement already satisfied: mpmath<1.4,>=1.1.0 in /home/ubuntu/.pyenv/versions/3.10.14/lib/python3.10/site-packages (from sympy==1.13.1->torch>=1.10.0->accelerate) (1.3.0)\n",
      "Requirement already satisfied: MarkupSafe>=2.0 in /home/ubuntu/.pyenv/versions/3.10.14/lib/python3.10/site-packages (from jinja2->torch>=1.10.0->accelerate) (2.1.5)\n",
      "Requirement already satisfied: charset-normalizer<4,>=2 in /home/ubuntu/.pyenv/versions/3.10.14/lib/python3.10/site-packages (from requests->huggingface_hub>=0.21.0->accelerate) (3.3.2)\n",
      "Requirement already satisfied: idna<4,>=2.5 in /home/ubuntu/.pyenv/versions/3.10.14/lib/python3.10/site-packages (from requests->huggingface_hub>=0.21.0->accelerate) (3.7)\n",
      "Requirement already satisfied: urllib3<3,>=1.21.1 in /home/ubuntu/.pyenv/versions/3.10.14/lib/python3.10/site-packages (from requests->huggingface_hub>=0.21.0->accelerate) (2.2.2)\n",
      "Requirement already satisfied: certifi>=2017.4.17 in /home/ubuntu/.pyenv/versions/3.10.14/lib/python3.10/site-packages (from requests->huggingface_hub>=0.21.0->accelerate) (2024.7.4)\n",
      "\n",
      "\u001b[1m[\u001b[0m\u001b[34;49mnotice\u001b[0m\u001b[1;39;49m]\u001b[0m\u001b[39;49m A new release of pip is available: \u001b[0m\u001b[31;49m23.0.1\u001b[0m\u001b[39;49m -> \u001b[0m\u001b[32;49m24.3.1\u001b[0m\n",
      "\u001b[1m[\u001b[0m\u001b[34;49mnotice\u001b[0m\u001b[1;39;49m]\u001b[0m\u001b[39;49m To update, run: \u001b[0m\u001b[32;49mpip install --upgrade pip\u001b[0m\n"
     ]
    }
   ],
   "source": [
    "!pip install accelerate"
   ]
  },
  {
   "cell_type": "code",
   "execution_count": 38,
   "id": "c9f5258e-5ed6-4a81-bffd-ce238fa73b32",
   "metadata": {},
   "outputs": [],
   "source": [
    "from accelerate import Accelerator\n",
    "\n",
    "accelerator = Accelerator()"
   ]
  },
  {
   "cell_type": "code",
   "execution_count": 40,
   "id": "b1221595-3f5c-4a0c-a215-e75f822571b1",
   "metadata": {},
   "outputs": [
    {
     "name": "stdout",
     "output_type": "stream",
     "text": [
      "trainable params: 22030336 || all params: 4562630656 || trainable%: 0.4828428523143645\n"
     ]
    }
   ],
   "source": [
    "from peft import LoraConfig, get_peft_model\n",
    "\n",
    "config = LoraConfig(\n",
    "    r=8,\n",
    "    lora_alpha=16,\n",
    "    target_modules=[\n",
    "        \"q_proj\",\n",
    "        \"k_proj\",\n",
    "        \"v_proj\",\n",
    "        \"o_proj\",\n",
    "        \"gate_proj\",\n",
    "        \"up_proj\",\n",
    "        \"down_proj\",\n",
    "        \"lm_head\",\n",
    "    ],\n",
    "    bias=\"none\",\n",
    "    lora_dropout=0.05,  # Conventional\n",
    "    task_type=\"CAUSAL_LM\",\n",
    ")\n",
    "\n",
    "model = get_peft_model(model, config)\n",
    "print_trainable_parameters(model)\n",
    "\n",
    "# Apply the accelerator. You can comment this out to remove the accelerator.\n",
    "model = accelerator.prepare_model(model)"
   ]
  },
  {
   "cell_type": "code",
   "execution_count": 41,
   "id": "62b92005-6029-4796-ae07-0db6ea5934ba",
   "metadata": {},
   "outputs": [
    {
     "name": "stdout",
     "output_type": "stream",
     "text": [
      "PeftModelForCausalLM(\n",
      "  (base_model): LoraModel(\n",
      "    (model): PeftModelForCausalLM(\n",
      "      (base_model): LoraModel(\n",
      "        (model): PeftModelForCausalLM(\n",
      "          (base_model): LoraModel(\n",
      "            (model): PeftModelForCausalLM(\n",
      "              (base_model): LoraModel(\n",
      "                (model): PeftModelForCausalLM(\n",
      "                  (base_model): LoraModel(\n",
      "                    (model): LlamaForCausalLM(\n",
      "                      (model): LlamaModel(\n",
      "                        (embed_tokens): Embedding(128256, 4096)\n",
      "                        (layers): ModuleList(\n",
      "                          (0-31): 32 x LlamaDecoderLayer(\n",
      "                            (self_attn): LlamaSdpaAttention(\n",
      "                              (q_proj): lora.Linear4bit(\n",
      "                                (base_layer): Linear4bit(in_features=4096, out_features=4096, bias=False)\n",
      "                                (lora_dropout): ModuleDict(\n",
      "                                  (default): Dropout(p=0.05, inplace=False)\n",
      "                                )\n",
      "                                (lora_A): ModuleDict(\n",
      "                                  (default): Linear(in_features=4096, out_features=8, bias=False)\n",
      "                                )\n",
      "                                (lora_B): ModuleDict(\n",
      "                                  (default): Linear(in_features=8, out_features=4096, bias=False)\n",
      "                                )\n",
      "                                (lora_embedding_A): ParameterDict()\n",
      "                                (lora_embedding_B): ParameterDict()\n",
      "                                (lora_magnitude_vector): ModuleDict()\n",
      "                              )\n",
      "                              (k_proj): lora.Linear4bit(\n",
      "                                (base_layer): Linear4bit(in_features=4096, out_features=1024, bias=False)\n",
      "                                (lora_dropout): ModuleDict(\n",
      "                                  (default): Dropout(p=0.05, inplace=False)\n",
      "                                )\n",
      "                                (lora_A): ModuleDict(\n",
      "                                  (default): Linear(in_features=4096, out_features=8, bias=False)\n",
      "                                )\n",
      "                                (lora_B): ModuleDict(\n",
      "                                  (default): Linear(in_features=8, out_features=1024, bias=False)\n",
      "                                )\n",
      "                                (lora_embedding_A): ParameterDict()\n",
      "                                (lora_embedding_B): ParameterDict()\n",
      "                                (lora_magnitude_vector): ModuleDict()\n",
      "                              )\n",
      "                              (v_proj): lora.Linear4bit(\n",
      "                                (base_layer): Linear4bit(in_features=4096, out_features=1024, bias=False)\n",
      "                                (lora_dropout): ModuleDict(\n",
      "                                  (default): Dropout(p=0.05, inplace=False)\n",
      "                                )\n",
      "                                (lora_A): ModuleDict(\n",
      "                                  (default): Linear(in_features=4096, out_features=8, bias=False)\n",
      "                                )\n",
      "                                (lora_B): ModuleDict(\n",
      "                                  (default): Linear(in_features=8, out_features=1024, bias=False)\n",
      "                                )\n",
      "                                (lora_embedding_A): ParameterDict()\n",
      "                                (lora_embedding_B): ParameterDict()\n",
      "                                (lora_magnitude_vector): ModuleDict()\n",
      "                              )\n",
      "                              (o_proj): lora.Linear4bit(\n",
      "                                (base_layer): Linear4bit(in_features=4096, out_features=4096, bias=False)\n",
      "                                (lora_dropout): ModuleDict(\n",
      "                                  (default): Dropout(p=0.05, inplace=False)\n",
      "                                )\n",
      "                                (lora_A): ModuleDict(\n",
      "                                  (default): Linear(in_features=4096, out_features=8, bias=False)\n",
      "                                )\n",
      "                                (lora_B): ModuleDict(\n",
      "                                  (default): Linear(in_features=8, out_features=4096, bias=False)\n",
      "                                )\n",
      "                                (lora_embedding_A): ParameterDict()\n",
      "                                (lora_embedding_B): ParameterDict()\n",
      "                                (lora_magnitude_vector): ModuleDict()\n",
      "                              )\n",
      "                              (rotary_emb): LlamaRotaryEmbedding()\n",
      "                            )\n",
      "                            (mlp): LlamaMLP(\n",
      "                              (gate_proj): lora.Linear4bit(\n",
      "                                (base_layer): Linear4bit(in_features=4096, out_features=14336, bias=False)\n",
      "                                (lora_dropout): ModuleDict(\n",
      "                                  (default): Dropout(p=0.05, inplace=False)\n",
      "                                )\n",
      "                                (lora_A): ModuleDict(\n",
      "                                  (default): Linear(in_features=4096, out_features=8, bias=False)\n",
      "                                )\n",
      "                                (lora_B): ModuleDict(\n",
      "                                  (default): Linear(in_features=8, out_features=14336, bias=False)\n",
      "                                )\n",
      "                                (lora_embedding_A): ParameterDict()\n",
      "                                (lora_embedding_B): ParameterDict()\n",
      "                                (lora_magnitude_vector): ModuleDict()\n",
      "                              )\n",
      "                              (up_proj): lora.Linear4bit(\n",
      "                                (base_layer): Linear4bit(in_features=4096, out_features=14336, bias=False)\n",
      "                                (lora_dropout): ModuleDict(\n",
      "                                  (default): Dropout(p=0.05, inplace=False)\n",
      "                                )\n",
      "                                (lora_A): ModuleDict(\n",
      "                                  (default): Linear(in_features=4096, out_features=8, bias=False)\n",
      "                                )\n",
      "                                (lora_B): ModuleDict(\n",
      "                                  (default): Linear(in_features=8, out_features=14336, bias=False)\n",
      "                                )\n",
      "                                (lora_embedding_A): ParameterDict()\n",
      "                                (lora_embedding_B): ParameterDict()\n",
      "                                (lora_magnitude_vector): ModuleDict()\n",
      "                              )\n",
      "                              (down_proj): lora.Linear4bit(\n",
      "                                (base_layer): Linear4bit(in_features=14336, out_features=4096, bias=False)\n",
      "                                (lora_dropout): ModuleDict(\n",
      "                                  (default): Dropout(p=0.05, inplace=False)\n",
      "                                )\n",
      "                                (lora_A): ModuleDict(\n",
      "                                  (default): Linear(in_features=14336, out_features=8, bias=False)\n",
      "                                )\n",
      "                                (lora_B): ModuleDict(\n",
      "                                  (default): Linear(in_features=8, out_features=4096, bias=False)\n",
      "                                )\n",
      "                                (lora_embedding_A): ParameterDict()\n",
      "                                (lora_embedding_B): ParameterDict()\n",
      "                                (lora_magnitude_vector): ModuleDict()\n",
      "                              )\n",
      "                              (act_fn): SiLU()\n",
      "                            )\n",
      "                            (input_layernorm): LlamaRMSNorm((4096,), eps=1e-05)\n",
      "                            (post_attention_layernorm): LlamaRMSNorm((4096,), eps=1e-05)\n",
      "                          )\n",
      "                        )\n",
      "                        (norm): LlamaRMSNorm((4096,), eps=1e-05)\n",
      "                        (rotary_emb): LlamaRotaryEmbedding()\n",
      "                      )\n",
      "                      (lm_head): lora.Linear(\n",
      "                        (base_layer): Linear(in_features=4096, out_features=128256, bias=False)\n",
      "                        (lora_dropout): ModuleDict(\n",
      "                          (default): Dropout(p=0.05, inplace=False)\n",
      "                        )\n",
      "                        (lora_A): ModuleDict(\n",
      "                          (default): Linear(in_features=4096, out_features=8, bias=False)\n",
      "                        )\n",
      "                        (lora_B): ModuleDict(\n",
      "                          (default): Linear(in_features=8, out_features=128256, bias=False)\n",
      "                        )\n",
      "                        (lora_embedding_A): ParameterDict()\n",
      "                        (lora_embedding_B): ParameterDict()\n",
      "                        (lora_magnitude_vector): ModuleDict()\n",
      "                      )\n",
      "                    )\n",
      "                  )\n",
      "                )\n",
      "              )\n",
      "            )\n",
      "          )\n",
      "        )\n",
      "      )\n",
      "    )\n",
      "  )\n",
      ")\n"
     ]
    }
   ],
   "source": [
    "print(model)"
   ]
  },
  {
   "cell_type": "code",
   "execution_count": 42,
   "id": "c559f449-d619-415c-b3b3-fb7dcc54e6f4",
   "metadata": {},
   "outputs": [
    {
     "name": "stderr",
     "output_type": "stream",
     "text": [
      "huggingface/tokenizers: The current process just got forked, after parallelism has already been used. Disabling parallelism to avoid deadlocks...\n",
      "To disable this warning, you can either:\n",
      "\t- Avoid using `tokenizers` before the fork if possible\n",
      "\t- Explicitly set the environment variable TOKENIZERS_PARALLELISM=(true | false)\n"
     ]
    },
    {
     "name": "stdout",
     "output_type": "stream",
     "text": [
      "\n",
      "\u001b[1m[\u001b[0m\u001b[34;49mnotice\u001b[0m\u001b[1;39;49m]\u001b[0m\u001b[39;49m A new release of pip is available: \u001b[0m\u001b[31;49m23.0.1\u001b[0m\u001b[39;49m -> \u001b[0m\u001b[32;49m24.3.1\u001b[0m\n",
      "\u001b[1m[\u001b[0m\u001b[34;49mnotice\u001b[0m\u001b[1;39;49m]\u001b[0m\u001b[39;49m To update, run: \u001b[0m\u001b[32;49mpip install --upgrade pip\u001b[0m\n"
     ]
    },
    {
     "name": "stderr",
     "output_type": "stream",
     "text": [
      "\u001b[34m\u001b[1mwandb\u001b[0m: Using wandb-core as the SDK backend.  Please refer to https://wandb.me/wandb-core for more information.\n",
      "\u001b[34m\u001b[1mwandb\u001b[0m: Currently logged in as: \u001b[33myinghal\u001b[0m (\u001b[33myinghal-university-of-michigan\u001b[0m). Use \u001b[1m`wandb login --relogin`\u001b[0m to force relogin\n"
     ]
    }
   ],
   "source": [
    "!pip install -q wandb -U\n",
    "\n",
    "import wandb, os\n",
    "wandb.login()\n",
    "\n",
    "wandb_project = \"llama-finetune\"\n",
    "if len(wandb_project) > 0:\n",
    "    os.environ[\"WANDB_PROJECT\"] = wandb_project"
   ]
  },
  {
   "cell_type": "code",
   "execution_count": 43,
   "id": "514a9ed3-2bcf-4c20-bdae-f0578c71c548",
   "metadata": {},
   "outputs": [],
   "source": [
    "if torch.cuda.device_count() > 1: # If more than 1 GPU\n",
    "    model.is_parallelizable = True\n",
    "    model.model_parallel = True"
   ]
  },
  {
   "cell_type": "code",
   "execution_count": null,
   "id": "3b71a5af-c0f0-4754-bae0-1fc99df966b0",
   "metadata": {},
   "outputs": [
    {
     "name": "stderr",
     "output_type": "stream",
     "text": [
      "/home/ubuntu/.pyenv/versions/3.10.14/lib/python3.10/site-packages/transformers/training_args.py:1575: FutureWarning: `evaluation_strategy` is deprecated and will be removed in version 4.46 of 🤗 Transformers. Use `eval_strategy` instead\n",
      "  warnings.warn(\n"
     ]
    },
    {
     "data": {
      "text/html": [
       "\n",
       "    <div>\n",
       "      \n",
       "      <progress value='651' max='1000' style='width:300px; height:20px; vertical-align: middle;'></progress>\n",
       "      [ 651/1000 6:54:55 < 3:43:07, 0.03 it/s, Epoch 0.26/1]\n",
       "    </div>\n",
       "    <table border=\"1\" class=\"dataframe\">\n",
       "  <thead>\n",
       " <tr style=\"text-align: left;\">\n",
       "      <th>Step</th>\n",
       "      <th>Training Loss</th>\n",
       "      <th>Validation Loss</th>\n",
       "    </tr>\n",
       "  </thead>\n",
       "  <tbody>\n",
       "    <tr>\n",
       "      <td>50</td>\n",
       "      <td>1.083300</td>\n",
       "      <td>0.945958</td>\n",
       "    </tr>\n",
       "    <tr>\n",
       "      <td>100</td>\n",
       "      <td>0.994300</td>\n",
       "      <td>0.916485</td>\n",
       "    </tr>\n",
       "    <tr>\n",
       "      <td>150</td>\n",
       "      <td>0.935500</td>\n",
       "      <td>0.892970</td>\n",
       "    </tr>\n",
       "    <tr>\n",
       "      <td>200</td>\n",
       "      <td>0.965900</td>\n",
       "      <td>0.882292</td>\n",
       "    </tr>\n",
       "    <tr>\n",
       "      <td>250</td>\n",
       "      <td>0.930100</td>\n",
       "      <td>0.873530</td>\n",
       "    </tr>\n",
       "    <tr>\n",
       "      <td>300</td>\n",
       "      <td>0.943800</td>\n",
       "      <td>0.867631</td>\n",
       "    </tr>\n",
       "    <tr>\n",
       "      <td>350</td>\n",
       "      <td>0.908300</td>\n",
       "      <td>0.863133</td>\n",
       "    </tr>\n",
       "    <tr>\n",
       "      <td>400</td>\n",
       "      <td>0.955300</td>\n",
       "      <td>0.859068</td>\n",
       "    </tr>\n",
       "    <tr>\n",
       "      <td>450</td>\n",
       "      <td>0.918700</td>\n",
       "      <td>0.855089</td>\n",
       "    </tr>\n",
       "    <tr>\n",
       "      <td>500</td>\n",
       "      <td>0.909000</td>\n",
       "      <td>0.851609</td>\n",
       "    </tr>\n",
       "    <tr>\n",
       "      <td>550</td>\n",
       "      <td>0.924900</td>\n",
       "      <td>0.848958</td>\n",
       "    </tr>\n",
       "    <tr>\n",
       "      <td>600</td>\n",
       "      <td>0.846900</td>\n",
       "      <td>0.847002</td>\n",
       "    </tr>\n",
       "  </tbody>\n",
       "</table><p>\n",
       "    <div>\n",
       "      \n",
       "      <progress value='272' max='624' style='width:300px; height:20px; vertical-align: middle;'></progress>\n",
       "      [272/624 11:09 < 14:29, 0.40 it/s]\n",
       "    </div>\n",
       "    "
      ],
      "text/plain": [
       "<IPython.core.display.HTML object>"
      ]
     },
     "metadata": {},
     "output_type": "display_data"
    },
    {
     "name": "stderr",
     "output_type": "stream",
     "text": [
      "/home/ubuntu/.pyenv/versions/3.10.14/lib/python3.10/site-packages/peft/utils/save_and_load.py:230: UserWarning: Setting `save_embedding_layers` to `True` as embedding layers found in `target_modules`.\n",
      "  warnings.warn(\"Setting `save_embedding_layers` to `True` as embedding layers found in `target_modules`.\")\n",
      "/home/ubuntu/.pyenv/versions/3.10.14/lib/python3.10/site-packages/peft/utils/save_and_load.py:230: UserWarning: Setting `save_embedding_layers` to `True` as embedding layers found in `target_modules`.\n",
      "  warnings.warn(\"Setting `save_embedding_layers` to `True` as embedding layers found in `target_modules`.\")\n",
      "/home/ubuntu/.pyenv/versions/3.10.14/lib/python3.10/site-packages/peft/utils/save_and_load.py:230: UserWarning: Setting `save_embedding_layers` to `True` as embedding layers found in `target_modules`.\n",
      "  warnings.warn(\"Setting `save_embedding_layers` to `True` as embedding layers found in `target_modules`.\")\n",
      "/home/ubuntu/.pyenv/versions/3.10.14/lib/python3.10/site-packages/peft/utils/save_and_load.py:230: UserWarning: Setting `save_embedding_layers` to `True` as embedding layers found in `target_modules`.\n",
      "  warnings.warn(\"Setting `save_embedding_layers` to `True` as embedding layers found in `target_modules`.\")\n",
      "/home/ubuntu/.pyenv/versions/3.10.14/lib/python3.10/site-packages/peft/utils/save_and_load.py:230: UserWarning: Setting `save_embedding_layers` to `True` as embedding layers found in `target_modules`.\n",
      "  warnings.warn(\"Setting `save_embedding_layers` to `True` as embedding layers found in `target_modules`.\")\n",
      "/home/ubuntu/.pyenv/versions/3.10.14/lib/python3.10/site-packages/peft/utils/save_and_load.py:230: UserWarning: Setting `save_embedding_layers` to `True` as embedding layers found in `target_modules`.\n",
      "  warnings.warn(\"Setting `save_embedding_layers` to `True` as embedding layers found in `target_modules`.\")\n",
      "/home/ubuntu/.pyenv/versions/3.10.14/lib/python3.10/site-packages/peft/utils/save_and_load.py:230: UserWarning: Setting `save_embedding_layers` to `True` as embedding layers found in `target_modules`.\n",
      "  warnings.warn(\"Setting `save_embedding_layers` to `True` as embedding layers found in `target_modules`.\")\n",
      "/home/ubuntu/.pyenv/versions/3.10.14/lib/python3.10/site-packages/peft/utils/save_and_load.py:230: UserWarning: Setting `save_embedding_layers` to `True` as embedding layers found in `target_modules`.\n",
      "  warnings.warn(\"Setting `save_embedding_layers` to `True` as embedding layers found in `target_modules`.\")\n",
      "/home/ubuntu/.pyenv/versions/3.10.14/lib/python3.10/site-packages/peft/utils/save_and_load.py:230: UserWarning: Setting `save_embedding_layers` to `True` as embedding layers found in `target_modules`.\n",
      "  warnings.warn(\"Setting `save_embedding_layers` to `True` as embedding layers found in `target_modules`.\")\n",
      "/home/ubuntu/.pyenv/versions/3.10.14/lib/python3.10/site-packages/peft/utils/save_and_load.py:230: UserWarning: Setting `save_embedding_layers` to `True` as embedding layers found in `target_modules`.\n",
      "  warnings.warn(\"Setting `save_embedding_layers` to `True` as embedding layers found in `target_modules`.\")\n",
      "/home/ubuntu/.pyenv/versions/3.10.14/lib/python3.10/site-packages/peft/utils/save_and_load.py:230: UserWarning: Setting `save_embedding_layers` to `True` as embedding layers found in `target_modules`.\n",
      "  warnings.warn(\"Setting `save_embedding_layers` to `True` as embedding layers found in `target_modules`.\")\n",
      "/home/ubuntu/.pyenv/versions/3.10.14/lib/python3.10/site-packages/peft/utils/save_and_load.py:230: UserWarning: Setting `save_embedding_layers` to `True` as embedding layers found in `target_modules`.\n",
      "  warnings.warn(\"Setting `save_embedding_layers` to `True` as embedding layers found in `target_modules`.\")\n",
      "/home/ubuntu/.pyenv/versions/3.10.14/lib/python3.10/site-packages/peft/utils/save_and_load.py:230: UserWarning: Setting `save_embedding_layers` to `True` as embedding layers found in `target_modules`.\n",
      "  warnings.warn(\"Setting `save_embedding_layers` to `True` as embedding layers found in `target_modules`.\")\n",
      "/home/ubuntu/.pyenv/versions/3.10.14/lib/python3.10/site-packages/peft/utils/save_and_load.py:230: UserWarning: Setting `save_embedding_layers` to `True` as embedding layers found in `target_modules`.\n",
      "  warnings.warn(\"Setting `save_embedding_layers` to `True` as embedding layers found in `target_modules`.\")\n",
      "/home/ubuntu/.pyenv/versions/3.10.14/lib/python3.10/site-packages/peft/utils/save_and_load.py:230: UserWarning: Setting `save_embedding_layers` to `True` as embedding layers found in `target_modules`.\n",
      "  warnings.warn(\"Setting `save_embedding_layers` to `True` as embedding layers found in `target_modules`.\")\n",
      "/home/ubuntu/.pyenv/versions/3.10.14/lib/python3.10/site-packages/peft/utils/save_and_load.py:230: UserWarning: Setting `save_embedding_layers` to `True` as embedding layers found in `target_modules`.\n",
      "  warnings.warn(\"Setting `save_embedding_layers` to `True` as embedding layers found in `target_modules`.\")\n",
      "/home/ubuntu/.pyenv/versions/3.10.14/lib/python3.10/site-packages/peft/utils/save_and_load.py:230: UserWarning: Setting `save_embedding_layers` to `True` as embedding layers found in `target_modules`.\n",
      "  warnings.warn(\"Setting `save_embedding_layers` to `True` as embedding layers found in `target_modules`.\")\n",
      "/home/ubuntu/.pyenv/versions/3.10.14/lib/python3.10/site-packages/peft/utils/save_and_load.py:230: UserWarning: Setting `save_embedding_layers` to `True` as embedding layers found in `target_modules`.\n",
      "  warnings.warn(\"Setting `save_embedding_layers` to `True` as embedding layers found in `target_modules`.\")\n",
      "/home/ubuntu/.pyenv/versions/3.10.14/lib/python3.10/site-packages/peft/utils/save_and_load.py:230: UserWarning: Setting `save_embedding_layers` to `True` as embedding layers found in `target_modules`.\n",
      "  warnings.warn(\"Setting `save_embedding_layers` to `True` as embedding layers found in `target_modules`.\")\n",
      "/home/ubuntu/.pyenv/versions/3.10.14/lib/python3.10/site-packages/peft/utils/save_and_load.py:230: UserWarning: Setting `save_embedding_layers` to `True` as embedding layers found in `target_modules`.\n",
      "  warnings.warn(\"Setting `save_embedding_layers` to `True` as embedding layers found in `target_modules`.\")\n",
      "/home/ubuntu/.pyenv/versions/3.10.14/lib/python3.10/site-packages/peft/utils/save_and_load.py:230: UserWarning: Setting `save_embedding_layers` to `True` as embedding layers found in `target_modules`.\n",
      "  warnings.warn(\"Setting `save_embedding_layers` to `True` as embedding layers found in `target_modules`.\")\n",
      "/home/ubuntu/.pyenv/versions/3.10.14/lib/python3.10/site-packages/peft/utils/save_and_load.py:230: UserWarning: Setting `save_embedding_layers` to `True` as embedding layers found in `target_modules`.\n",
      "  warnings.warn(\"Setting `save_embedding_layers` to `True` as embedding layers found in `target_modules`.\")\n",
      "/home/ubuntu/.pyenv/versions/3.10.14/lib/python3.10/site-packages/peft/utils/save_and_load.py:230: UserWarning: Setting `save_embedding_layers` to `True` as embedding layers found in `target_modules`.\n",
      "  warnings.warn(\"Setting `save_embedding_layers` to `True` as embedding layers found in `target_modules`.\")\n",
      "/home/ubuntu/.pyenv/versions/3.10.14/lib/python3.10/site-packages/peft/utils/save_and_load.py:230: UserWarning: Setting `save_embedding_layers` to `True` as embedding layers found in `target_modules`.\n",
      "  warnings.warn(\"Setting `save_embedding_layers` to `True` as embedding layers found in `target_modules`.\")\n",
      "/home/ubuntu/.pyenv/versions/3.10.14/lib/python3.10/site-packages/peft/utils/save_and_load.py:230: UserWarning: Setting `save_embedding_layers` to `True` as embedding layers found in `target_modules`.\n",
      "  warnings.warn(\"Setting `save_embedding_layers` to `True` as embedding layers found in `target_modules`.\")\n"
     ]
    }
   ],
   "source": [
    "import transformers\n",
    "from datetime import datetime\n",
    "\n",
    "project = \"llama-finetune\"\n",
    "base_model_name = \"meta-llama/Llama-3.1-8B\"\n",
    "run_name = base_model_name + \"-\" + project\n",
    "output_dir = \"./\" + run_name\n",
    "\n",
    "tokenizer.pad_token = tokenizer.eos_token\n",
    "\n",
    "trainer = transformers.Trainer(\n",
    "    model=model,\n",
    "    train_dataset=tokenized_train_dataset,\n",
    "    eval_dataset=tokenized_val_dataset,\n",
    "    args=transformers.TrainingArguments(\n",
    "        output_dir=output_dir,\n",
    "        warmup_steps=5,\n",
    "        per_device_train_batch_size=2,\n",
    "        gradient_checkpointing=True,\n",
    "        gradient_accumulation_steps=4,\n",
    "        max_steps=1000,\n",
    "        learning_rate=2.5e-5,\n",
    "        logging_steps=50,\n",
    "        bf16=True,\n",
    "        optim=\"paged_adamw_8bit\",\n",
    "        logging_dir=\"./logs\",        # Directory for storing logs\n",
    "        save_strategy=\"steps\",       # Save the model checkpoint every logging step\n",
    "        save_steps=25,                # Save checkpoints every 50 steps\n",
    "        evaluation_strategy=\"steps\", # Evaluate the model every logging step\n",
    "        eval_steps=50,               # Evaluate and save checkpoints every 50 steps\n",
    "        do_eval=True,                # Perform evaluation at the end of training\n",
    "        report_to=\"wandb\",           # Comment this out if you don't want to use weights & baises\n",
    "        run_name=f\"{run_name}-{datetime.now().strftime('%Y-%m-%d-%H-%M')}\"          # Name of the W&B run (optional)\n",
    "    ),\n",
    "    data_collator=transformers.DataCollatorForLanguageModeling(tokenizer, mlm=False),\n",
    ")\n",
    "\n",
    "model.config.use_cache = False  # silence the warnings. Please re-enable for inference!\n",
    "trainer.train()"
   ]
  },
  {
   "cell_type": "markdown",
   "id": "63256631-7d11-4d41-8a1a-f150055187ba",
   "metadata": {},
   "source": [
    "Reconnect the kernel after obtaining a good checkpoint"
   ]
  },
  {
   "cell_type": "code",
   "execution_count": 28,
   "id": "cf435369-9495-4fc5-a202-0a1373772e64",
   "metadata": {},
   "outputs": [
    {
     "name": "stderr",
     "output_type": "stream",
     "text": [
      "`low_cpu_mem_usage` was None, now default to True since model is quantized.\n"
     ]
    },
    {
     "data": {
      "application/vnd.jupyter.widget-view+json": {
       "model_id": "a7aeb7ce2f39467b8820cb0db4c96ed3",
       "version_major": 2,
       "version_minor": 0
      },
      "text/plain": [
       "Loading checkpoint shards:   0%|          | 0/4 [00:00<?, ?it/s]"
      ]
     },
     "metadata": {},
     "output_type": "display_data"
    }
   ],
   "source": [
    "import torch\n",
    "from transformers import AutoTokenizer, AutoModelForCausalLM, BitsAndBytesConfig\n",
    "\n",
    "base_model_id = \"meta-llama/Llama-3.1-8B\"\n",
    "bnb_config = BitsAndBytesConfig(\n",
    "    load_in_4bit=True,\n",
    "    bnb_4bit_use_double_quant=True,\n",
    "    bnb_4bit_quant_type=\"nf4\",\n",
    "    bnb_4bit_compute_dtype=torch.bfloat16\n",
    ")\n",
    "\n",
    "# base_model = AutoModelForCausalLM.from_pretrained(\n",
    "#    base_model_id,\n",
    "#    quantization_config=bnb_config,  # Same quantization config as before\n",
    "#    device_map=\"auto\",\n",
    "#    trust_remote_code=True,\n",
    "#)\n",
    "\n",
    "base_model = AutoModelForCausalLM.from_pretrained(\n",
    "    base_model_id,\n",
    "    quantization_config=bnb_config)\n",
    "\n",
    "eval_tokenizer = AutoTokenizer.from_pretrained(\n",
    "    base_model_id,\n",
    "    add_bos_token=True,\n",
    "    trust_remote_code=True,\n",
    ")"
   ]
  },
  {
   "cell_type": "code",
   "execution_count": 29,
   "id": "8223f762-4fe0-48e1-bf42-7f180ea802f0",
   "metadata": {},
   "outputs": [],
   "source": [
    "from peft import PeftModel\n",
    "\n",
    "ft_model = PeftModel.from_pretrained(base_model, \"meta-llama/Llama-3.1-8B-llama-finetune/checkpoint-675\")"
   ]
  },
  {
   "cell_type": "code",
   "execution_count": 31,
   "id": "9bac7189-d4b8-4a26-bb5f-74e916aebfca",
   "metadata": {},
   "outputs": [],
   "source": [
    "from deepeval.models.base_model import DeepEvalBaseLLM\n",
    "from deepeval.benchmarks import HellaSwag\n",
    "from deepeval.benchmarks.tasks import HellaSwagTask\n",
    "import re"
   ]
  },
  {
   "cell_type": "code",
   "execution_count": null,
   "id": "80f2b1c1-d9b0-4c3d-9b6f-79a766ec5494",
   "metadata": {},
   "outputs": [],
   "source": []
  },
  {
   "cell_type": "code",
   "execution_count": null,
   "id": "e5c887ee-ae8c-4fdc-9036-9ebb76248be4",
   "metadata": {},
   "outputs": [],
   "source": []
  },
  {
   "cell_type": "code",
   "execution_count": 32,
   "id": "c6721ab2-fbe8-4564-8743-efdb62735a67",
   "metadata": {},
   "outputs": [],
   "source": [
    "tokenizer = AutoTokenizer.from_pretrained(\"meta-llama/Llama-3.1-8B\")"
   ]
  },
  {
   "cell_type": "code",
   "execution_count": 33,
   "id": "21265c7a-04eb-4473-b5d1-e169f2f6364c",
   "metadata": {},
   "outputs": [],
   "source": [
    "class Llama3(DeepEvalBaseLLM):\n",
    "    def __init__(\n",
    "        self,\n",
    "        model,\n",
    "        tokenizer\n",
    "    ):\n",
    "        self.model = model\n",
    "        self.tokenizer = tokenizer\n",
    "\n",
    "    def load_model(self):\n",
    "        return self.model\n",
    "\n",
    "    def generate(self, prompt: str) -> str:\n",
    "        sections = [section.strip() for section in prompt.split(\"\\n\\n\") if section.strip()]\n",
    "\n",
    "        # Take the last section, including \"Answer:\" for context\n",
    "        prompt = sections[-2]\n",
    "\n",
    "        model = self.load_model()\n",
    "\n",
    "        device = \"cuda\" # the device to load the model onto\n",
    "\n",
    "        model_inputs = self.tokenizer([prompt], return_tensors=\"pt\").to(device)\n",
    "        model.to(device)\n",
    "\n",
    "        generated_ids = model.generate(\n",
    "            **model_inputs, \n",
    "            max_new_tokens=100, \n",
    "            use_cache=True)\n",
    "        \n",
    "        ans = self.tokenizer.batch_decode(generated_ids)[0]\n",
    "\n",
    "        match = re.search(r\"Answer:\\s*([A-D])\", ans)\n",
    "\n",
    "        if match:\n",
    "            answer = match.group(1)\n",
    "        else:\n",
    "            answer = 'N/A'\n",
    "\n",
    "        return answer\n",
    "\n",
    "    async def a_generate(self, prompt: str) -> str:\n",
    "        return self.generate(prompt)\n",
    "\n",
    "    # This is optional.\n",
    "    def batch_generate(self, promtps: list[str]) -> list[str]:\n",
    "        model = self.load_model()\n",
    "        device = \"cuda\" # the device to load the model onto\n",
    "\n",
    "        new_p = []\n",
    "        for p in promtps:\n",
    "            sections = [section.strip() for section in prompt.split(\"\\n\\n\") if section.strip()]\n",
    "            new_p.append(sections[-2])\n",
    "            \n",
    "        model_inputs = self.tokenizer(\n",
    "            new_p,\n",
    "            padding=True,    # Ensure equal-length inputs\n",
    "            truncation=True, # Truncate inputs that exceed max_length\n",
    "            max_length=512,\n",
    "            return_tensors=\"pt\").to(device)\n",
    "        model.to(device)\n",
    "\n",
    "        generated_ids = model.generate(\n",
    "            **model_inputs,\n",
    "            max_new_tokens=100, use_cache=True)\n",
    "        decoded_responses = self.tokenizer.batch_decode(generated_ids, skip_special_tokens=True)\n",
    "\n",
    "        res = []\n",
    "        for ans in decoded_responses:\n",
    "            match = re.search(r\"Answer:\\s*([A-D])\", ans)\n",
    "    \n",
    "            if match:\n",
    "                res.append(match.group(1))\n",
    "            else:\n",
    "                res.append('N/A')\n",
    "        return res\n",
    "\n",
    "    def get_model_name(self):\n",
    "        return \"Llama 3\"\n",
    "\n",
    "\n",
    "llama3 = Llama3(model=ft_model, tokenizer=tokenizer)"
   ]
  },
  {
   "cell_type": "code",
   "execution_count": 36,
   "id": "202934b5-e97b-4286-94cc-9b2333ebc96e",
   "metadata": {},
   "outputs": [],
   "source": [
    "benchmark = HellaSwag(\n",
    "    tasks=[HellaSwagTask.APPLYING_SUNSCREEN, HellaSwagTask.SKATEBOARDING],\n",
    "    n_shots=3)"
   ]
  },
  {
   "cell_type": "code",
   "execution_count": 37,
   "id": "038fe6f2-13b6-4a9b-aa6f-8614d4df42d1",
   "metadata": {},
   "outputs": [
    {
     "name": "stderr",
     "output_type": "stream",
     "text": [
      "Processing Applying sunscreen:   0%|          | 0/20 [00:00<?, ?it/s]Setting `pad_token_id` to `eos_token_id`:None for open-end generation.\n",
      "Processing Applying sunscreen:   5%|▌         | 1/20 [00:00<00:06,  2.93it/s]Setting `pad_token_id` to `eos_token_id`:None for open-end generation.\n",
      "Processing Applying sunscreen:  10%|█         | 2/20 [00:03<00:37,  2.07s/it]Setting `pad_token_id` to `eos_token_id`:None for open-end generation.\n",
      "Processing Applying sunscreen:  15%|█▌        | 3/20 [00:03<00:21,  1.28s/it]Setting `pad_token_id` to `eos_token_id`:None for open-end generation.\n",
      "Processing Applying sunscreen:  20%|██        | 4/20 [00:04<00:14,  1.11it/s]Setting `pad_token_id` to `eos_token_id`:None for open-end generation.\n",
      "Processing Applying sunscreen:  25%|██▌       | 5/20 [00:04<00:10,  1.44it/s]Setting `pad_token_id` to `eos_token_id`:None for open-end generation.\n",
      "Processing Applying sunscreen:  30%|███       | 6/20 [00:04<00:07,  1.76it/s]Setting `pad_token_id` to `eos_token_id`:None for open-end generation.\n",
      "Processing Applying sunscreen:  35%|███▌      | 7/20 [00:05<00:06,  2.04it/s]Setting `pad_token_id` to `eos_token_id`:None for open-end generation.\n",
      "Processing Applying sunscreen:  40%|████      | 8/20 [00:05<00:05,  2.28it/s]Setting `pad_token_id` to `eos_token_id`:None for open-end generation.\n",
      "Processing Applying sunscreen:  45%|████▌     | 9/20 [00:05<00:04,  2.47it/s]Setting `pad_token_id` to `eos_token_id`:None for open-end generation.\n",
      "Processing Applying sunscreen:  50%|█████     | 10/20 [00:06<00:03,  2.62it/s]Setting `pad_token_id` to `eos_token_id`:None for open-end generation.\n",
      "Processing Applying sunscreen:  55%|█████▌    | 11/20 [00:06<00:03,  2.74it/s]Setting `pad_token_id` to `eos_token_id`:None for open-end generation.\n",
      "Processing Applying sunscreen:  60%|██████    | 12/20 [00:06<00:02,  2.82it/s]Setting `pad_token_id` to `eos_token_id`:None for open-end generation.\n",
      "Processing Applying sunscreen:  65%|██████▌   | 13/20 [00:07<00:02,  2.86it/s]Setting `pad_token_id` to `eos_token_id`:None for open-end generation.\n",
      "Processing Applying sunscreen:  70%|███████   | 14/20 [00:13<00:12,  2.05s/it]Setting `pad_token_id` to `eos_token_id`:None for open-end generation.\n",
      "Processing Applying sunscreen:  75%|███████▌  | 15/20 [00:13<00:07,  1.53s/it]Setting `pad_token_id` to `eos_token_id`:None for open-end generation.\n",
      "Processing Applying sunscreen:  80%|████████  | 16/20 [00:13<00:04,  1.17s/it]Setting `pad_token_id` to `eos_token_id`:None for open-end generation.\n",
      "Processing Applying sunscreen:  85%|████████▌ | 17/20 [00:14<00:02,  1.09it/s]Setting `pad_token_id` to `eos_token_id`:None for open-end generation.\n",
      "Processing Applying sunscreen:  90%|█████████ | 18/20 [00:14<00:01,  1.35it/s]Setting `pad_token_id` to `eos_token_id`:None for open-end generation.\n",
      "Processing Applying sunscreen:  95%|█████████▌| 19/20 [00:18<00:01,  1.78s/it]Setting `pad_token_id` to `eos_token_id`:None for open-end generation.\n",
      "Processing Applying sunscreen: 100%|██████████| 20/20 [00:19<00:00,  1.05it/s]\n"
     ]
    },
    {
     "name": "stdout",
     "output_type": "stream",
     "text": [
      "HellaSwag Task Accuracy (task=Applying sunscreen): 0.5\n"
     ]
    },
    {
     "name": "stderr",
     "output_type": "stream",
     "text": [
      "Processing Skateboarding:   0%|          | 0/9 [00:00<?, ?it/s]Setting `pad_token_id` to `eos_token_id`:None for open-end generation.\n",
      "Processing Skateboarding:  11%|█         | 1/9 [00:00<00:02,  3.02it/s]Setting `pad_token_id` to `eos_token_id`:None for open-end generation.\n",
      "Processing Skateboarding:  22%|██▏       | 2/9 [00:00<00:02,  3.00it/s]Setting `pad_token_id` to `eos_token_id`:None for open-end generation.\n",
      "Processing Skateboarding:  33%|███▎      | 3/9 [00:00<00:02,  3.00it/s]Setting `pad_token_id` to `eos_token_id`:None for open-end generation.\n",
      "Processing Skateboarding:  44%|████▍     | 4/9 [00:15<00:28,  5.76s/it]Setting `pad_token_id` to `eos_token_id`:None for open-end generation.\n",
      "Processing Skateboarding:  56%|█████▌    | 5/9 [00:15<00:15,  3.80s/it]Setting `pad_token_id` to `eos_token_id`:None for open-end generation.\n",
      "Processing Skateboarding:  67%|██████▋   | 6/9 [00:15<00:07,  2.62s/it]Setting `pad_token_id` to `eos_token_id`:None for open-end generation.\n",
      "Processing Skateboarding:  78%|███████▊  | 7/9 [00:16<00:03,  1.87s/it]Setting `pad_token_id` to `eos_token_id`:None for open-end generation.\n",
      "Processing Skateboarding:  89%|████████▉ | 8/9 [00:16<00:01,  1.38s/it]Setting `pad_token_id` to `eos_token_id`:None for open-end generation.\n",
      "Processing Skateboarding: 100%|██████████| 9/9 [00:16<00:00,  1.86s/it]"
     ]
    },
    {
     "name": "stdout",
     "output_type": "stream",
     "text": [
      "HellaSwag Task Accuracy (task=Skateboarding): 0.3333333333333333\n",
      "Overall HellaSwag Accuracy: 0.4482758620689655\n",
      "Task-specific Scoress:                   Task     Score\n",
      "0  Applying sunscreen  0.500000\n",
      "1       Skateboarding  0.333333\n",
      "Detailed Predictions:                    Task                                              Input  \\\n",
      "0   Applying sunscreen  More and more people begin talking and each of...   \n",
      "1   Applying sunscreen  A woman puts some lotion on her hand. She rubs...   \n",
      "2   Applying sunscreen  Two people are seen hosting a news segment tha...   \n",
      "3   Applying sunscreen  A woman is seen hosting a news segment with se...   \n",
      "4   Applying sunscreen  Various shots shots are shown of people on the...   \n",
      "5   Applying sunscreen  Girls talk in a beach, then girls spray sunscr...   \n",
      "6   Applying sunscreen  Girls talk in a beach, then girls spray sunscr...   \n",
      "7   Applying sunscreen  A medical worker is sitting at a table with a ...   \n",
      "8   Applying sunscreen  He moves a can and touches two other cans. He ...   \n",
      "9   Applying sunscreen  A young lady shows a a beauty cream bottle. th...   \n",
      "10  Applying sunscreen  There is a boy sitting on the bed showing off ...   \n",
      "11  Applying sunscreen  There is a boy sitting on the bed showing off ...   \n",
      "12  Applying sunscreen  The sunburned man is taking his shirt off and ...   \n",
      "13  Applying sunscreen  A woman is shown applying sunscreen to several...   \n",
      "14  Applying sunscreen  A person is seen pumping out sunscreen to kids...   \n",
      "15  Applying sunscreen  Once it is evenly displayed, several paragraph...   \n",
      "16  Applying sunscreen  A bottle of moisturizer is shown. a woman on a...   \n",
      "17  Applying sunscreen  A bottle of moisturizer is shown. A woman on a...   \n",
      "18  Applying sunscreen  A bottle of moisturizer is shown. A woman on a...   \n",
      "19  Applying sunscreen  There are many people in bathing suits standin...   \n",
      "20       Skateboarding  Skaters are skateboarding during the day. now ...   \n",
      "21       Skateboarding  An introduction comes onto the screen for a vi...   \n",
      "22       Skateboarding  An introduction comes onto the screen for a vi...   \n",
      "23       Skateboarding  People are skateboarding down a street. A pers...   \n",
      "24       Skateboarding  Skateboarder to different tricks spinning thei...   \n",
      "25       Skateboarding  Skateboarder to different tricks spinning thei...   \n",
      "26       Skateboarding  Boy is skateboarding in a skate park at night....   \n",
      "27       Skateboarding  He flips the skateboard, and we see it in slow...   \n",
      "28       Skateboarding  A couple of boys are riding skateboards. They ...   \n",
      "\n",
      "   Prediction  Correct  \n",
      "0           A        0  \n",
      "1           C        1  \n",
      "2           D        0  \n",
      "3           A        0  \n",
      "4           C        0  \n",
      "5           A        1  \n",
      "6           A        0  \n",
      "7           B        1  \n",
      "8           A        1  \n",
      "9           B        0  \n",
      "10          A        1  \n",
      "11          B        0  \n",
      "12          B        0  \n",
      "13          C        0  \n",
      "14          C        0  \n",
      "15          B        1  \n",
      "16          A        1  \n",
      "17          B        1  \n",
      "18          C        1  \n",
      "19          B        1  \n",
      "20          A        1  \n",
      "21          C        0  \n",
      "22          C        1  \n",
      "23          B        0  \n",
      "24          D        0  \n",
      "25          C        0  \n",
      "26          C        1  \n",
      "27          B        0  \n",
      "28          C        0  \n",
      "0.4482758620689655\n"
     ]
    },
    {
     "name": "stderr",
     "output_type": "stream",
     "text": [
      "\n"
     ]
    }
   ],
   "source": [
    "results = benchmark.evaluate(model=llama3, batch_size = 5)\n",
    "print(\"Task-specific Scoress: \", benchmark.task_scores)\n",
    "print(\"Detailed Predictions: \", benchmark.predictions)\n",
    "print(benchmark.overall_score)"
   ]
  }
 ],
 "metadata": {
  "kernelspec": {
   "display_name": "Python 3 (ipykernel)",
   "language": "python",
   "name": "python3"
  },
  "language_info": {
   "codemirror_mode": {
    "name": "ipython",
    "version": 3
   },
   "file_extension": ".py",
   "mimetype": "text/x-python",
   "name": "python",
   "nbconvert_exporter": "python",
   "pygments_lexer": "ipython3",
   "version": "3.10.12"
  }
 },
 "nbformat": 4,
 "nbformat_minor": 5
}
